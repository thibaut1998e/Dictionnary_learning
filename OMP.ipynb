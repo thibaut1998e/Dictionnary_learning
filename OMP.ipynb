{
 "cells": [
  {
   "cell_type": "code",
   "execution_count": 1,
   "metadata": {},
   "outputs": [],
   "source": [
    "using LinearAlgebra\n",
    "using Random"
   ]
  },
  {
   "cell_type": "code",
   "execution_count": 2,
   "metadata": {},
   "outputs": [],
   "source": [
    "using Plots"
   ]
  },
  {
   "cell_type": "code",
   "execution_count": 3,
   "metadata": {},
   "outputs": [],
   "source": [
    "#using Pkg\n",
    "#Pkg.add(\"CSV\")"
   ]
  },
  {
   "cell_type": "code",
   "execution_count": 4,
   "metadata": {},
   "outputs": [],
   "source": [
    "#Pkg.add(\"DataFrames\")\n",
    "#Pkg.add(\"ImageView\")"
   ]
  },
  {
   "cell_type": "code",
   "execution_count": 5,
   "metadata": {},
   "outputs": [],
   "source": [
    "using Colors"
   ]
  },
  {
   "cell_type": "code",
   "execution_count": 6,
   "metadata": {},
   "outputs": [],
   "source": [
    "using ImageView"
   ]
  },
  {
   "cell_type": "code",
   "execution_count": 7,
   "metadata": {},
   "outputs": [],
   "source": [
    "using CSV"
   ]
  },
  {
   "cell_type": "code",
   "execution_count": 8,
   "metadata": {},
   "outputs": [],
   "source": [
    "using DataFrames"
   ]
  },
  {
   "cell_type": "code",
   "execution_count": 9,
   "metadata": {},
   "outputs": [
    {
     "data": {
      "text/plain": [
       "OMP (generic function with 1 method)"
      ]
     },
     "execution_count": 9,
     "metadata": {},
     "output_type": "execute_result"
    }
   ],
   "source": [
    "function OMP(b, A, sparsity_level)\n",
    "    # Orthogonal Matching Pursuit algorithm\n",
    "    #Input : \n",
    "    # b vector to be compressed of size m*1\n",
    "    # A : dictionary size m*N with m < N\n",
    "    # sparsity level : number of non zeros coeeficients in the output vector\n",
    "    # Output : \n",
    "    # sparse vector of size N*1\n",
    "    res = copy(b)\n",
    "    support = []\n",
    "    x_s = 0\n",
    "    for i = 1:sparsity_level\n",
    "        support = OMP1(A, res , support)\n",
    "        res, x_s = OMP2(A, b, support)\n",
    "    end\n",
    "    x = zeros(size(A)[2])\n",
    "    x[support] = x_s\n",
    "    return x\n",
    "    \n",
    "end\n",
    "\n",
    "        \n",
    "        \n",
    "    "
   ]
  },
  {
   "cell_type": "code",
   "execution_count": 10,
   "metadata": {},
   "outputs": [
    {
     "data": {
      "text/plain": [
       "OMP2 (generic function with 1 method)"
      ]
     },
     "execution_count": 10,
     "metadata": {},
     "output_type": "execute_result"
    }
   ],
   "source": [
    "function OMP2(A, b, support)\n",
    "    # Input\n",
    "    # A, b : same as above\n",
    "    # support : indices of non-zeros coefficient\n",
    "    # Output : \n",
    "    # x_s : vectors which minimizes the reconstruction error using only basis vectors in support\n",
    "    # res : residual ie difference between the vector to be compressed and the reconstructed vector\n",
    "    # using only basis vectors in support\n",
    "    A_s = A[:, support]\n",
    "    x_s = inv(A_s'*A_s) * A_s'*b\n",
    "    res = b - A_s*x_s\n",
    "    return res, x_s\n",
    "end"
   ]
  },
  {
   "cell_type": "code",
   "execution_count": 11,
   "metadata": {},
   "outputs": [
    {
     "data": {
      "text/plain": [
       "OMP1 (generic function with 1 method)"
      ]
     },
     "execution_count": 11,
     "metadata": {},
     "output_type": "execute_result"
    }
   ],
   "source": [
    "function OMP1(A, r, support)\n",
    "    # Input A, support same as above\n",
    "    # r : residual\n",
    "    # add a new vector index to the support. It adds the vector which maximises the normalized dot\n",
    "    # product between it and the residual. \n",
    "    # returns the new support\n",
    "    max_val = -10^7\n",
    "    n_max = 0\n",
    "    for n in 1:size(A)[2]\n",
    "        if !(n in support)\n",
    "            an = A[:, n]\n",
    "            val = an'*r/norm(an)^2\n",
    "            if val > max_val\n",
    "                max_val = val\n",
    "                n_max = n\n",
    "            end\n",
    "        end\n",
    "    end\n",
    "    support = append!(support, n_max)\n",
    "    return support\n",
    "end      "
   ]
  },
  {
   "cell_type": "code",
   "execution_count": 54,
   "metadata": {},
   "outputs": [
    {
     "name": "stdout",
     "output_type": "stream",
     "text": [
      "original vector\n",
      "[-0.34967197959264784, -0.38238235418699557, 0.48445996509738093, -2.087378765410847]\n",
      "compressed sparse vector\n",
      "[0.880154495007332, 0.0, 0.0, 0.0, 0.0, 0.0, 0.0, 0.0, 1.1882489745359193, 1.109356774089178]\n",
      "reconstructed vector\n",
      "[0.07434196690851724, 0.2233193475615194, -0.186668197944801, -1.9365624437594677]"
     ]
    }
   ],
   "source": [
    "# test the OMP algorithm on one piece of synthetic data\n",
    "m = 4 # original size\n",
    "N = 10 # size of sparse vector\n",
    "s = 3 # sparsity level\n",
    "A = randn(m,N) # generate a random dictionnary\n",
    "b = randn(m) # generate randomly the vector that we want to compress\n",
    "println(\"original vector\")\n",
    "println(b)\n",
    "x_hat = OMP(b, A, s) # compressed sparse vector (10 element including 3 non-zeros)\n",
    "println(\"compressed sparse vector\")\n",
    "println(x_hat)\n",
    "println(\"reconstructed vector\")\n",
    "print(A*x_hat)"
   ]
  },
  {
   "cell_type": "code",
   "execution_count": 43,
   "metadata": {},
   "outputs": [
    {
     "data": {
      "text/plain": [
       "compression_reconstruction (generic function with 1 method)"
      ]
     },
     "execution_count": 43,
     "metadata": {},
     "output_type": "execute_result"
    }
   ],
   "source": [
    "function compression_reconstruction(b, A, s)\n",
    "    # compress the input vector b using OMP algorithm. Then reconstruct it with the dictionnary \n",
    "    # and compare with the original vector (with a l1 norm). \n",
    "    # OUT x_hat : sparse vector representing b\n",
    "    # b_hat : reconstructed vector using sparse vector x_hat\n",
    "    # error l1 norm between b_hat and b\n",
    "    x_hat = OMP(b, A, s)\n",
    "    b_hat = A*x_hat\n",
    "    error = sum(abs.(b-b_hat))/size(b)[1]\n",
    "    return x_hat, b_hat, error\n",
    "end"
   ]
  },
  {
   "cell_type": "code",
   "execution_count": 44,
   "metadata": {},
   "outputs": [
    {
     "data": {
      "text/plain": [
       "test_OMP_synthetic_data (generic function with 1 method)"
      ]
     },
     "execution_count": 44,
     "metadata": {},
     "output_type": "execute_result"
    }
   ],
   "source": [
    "function test_OMP_synthetic_data(m, N, s, nb_tests)\n",
    "    # returns the mean error between the original data generated randomly following gaussian distribution\n",
    "    # and the reconstructed vector. ie l1_norm(b-b_hat)\n",
    "    # also returns the average l1 distance between 2 randomly generated gaussian vector for comparaison\n",
    "    mean_error = 0\n",
    "    mean_error_random = 0\n",
    "    for i in 1:nb_tests\n",
    "        A = randn(m,N)\n",
    "        b = randn(m)\n",
    "        b1 = randn(m)\n",
    "        x_hat, b_hat, error = compression_reconstruction(b, A, s)\n",
    "        error_random = sum(abs.(b-b1))/size(b)[1]\n",
    "        mean_error += error\n",
    "        mean_error_random += error_random\n",
    "    end\n",
    "    return mean_error/nb_tests, mean_error_random/nb_tests\n",
    "end\n",
    "\n",
    "     \n",
    "    "
   ]
  },
  {
   "cell_type": "code",
   "execution_count": 45,
   "metadata": {},
   "outputs": [
    {
     "data": {
      "text/plain": [
       "(0.23206249316008074, 1.0822404237213021)"
      ]
     },
     "execution_count": 45,
     "metadata": {},
     "output_type": "execute_result"
    }
   ],
   "source": [
    "test_OMP_synthetic_data(m, N, s, 100)"
   ]
  },
  {
   "cell_type": "code",
   "execution_count": 46,
   "metadata": {},
   "outputs": [
    {
     "data": {
      "text/plain": [
       "generate_sparse_vector (generic function with 1 method)"
      ]
     },
     "execution_count": 46,
     "metadata": {},
     "output_type": "execute_result"
    }
   ],
   "source": [
    "function generate_sparse_vector(size, s)\n",
    "    # generate randomly a sparse vector of size s with sparsity level s. I don't use it yet but can be useful\n",
    "    v = zeros(size)\n",
    "    idxs = shuffle(Vector(1:10))[1:s]\n",
    "    v[idxs] = randn(s)\n",
    "    return v\n",
    "end"
   ]
  },
  {
   "cell_type": "code",
   "execution_count": 52,
   "metadata": {},
   "outputs": [
    {
     "name": "stdout",
     "output_type": "stream",
     "text": [
      "x [0.0, 0.0, 0.0, 0.0, 0.17486592526088848, -1.068705429571996, 0.0, 1.6188895139065624, 0.0, 0.0]\n",
      "x_hat [0.0, -0.3365595301889843, 1.1253136846803402, 0.0, 0.0, 0.0, 0.0, 0.0, 0.0, 0.062459999163963276]\n"
     ]
    }
   ],
   "source": [
    "x = generate_sparse_vector(N, s)\n",
    "y = A*x\n",
    "x_hat = OMP(b, A, s)\n",
    "println(\"x \", x)\n",
    "println(\"x_hat \", x_hat)\n"
   ]
  },
  {
   "cell_type": "code",
   "execution_count": 17,
   "metadata": {},
   "outputs": [
    {
     "data": {
      "text/plain": [
       "10000×785 Array{Int64,2}:\n",
       " 7  0  0  0  0  0  0  0  0  0  0  0  0  …  0  0  0  0  0  0  0  0  0  0  0  0\n",
       " 2  0  0  0  0  0  0  0  0  0  0  0  0     0  0  0  0  0  0  0  0  0  0  0  0\n",
       " 1  0  0  0  0  0  0  0  0  0  0  0  0     0  0  0  0  0  0  0  0  0  0  0  0\n",
       " 0  0  0  0  0  0  0  0  0  0  0  0  0     0  0  0  0  0  0  0  0  0  0  0  0\n",
       " 4  0  0  0  0  0  0  0  0  0  0  0  0     0  0  0  0  0  0  0  0  0  0  0  0\n",
       " 1  0  0  0  0  0  0  0  0  0  0  0  0  …  0  0  0  0  0  0  0  0  0  0  0  0\n",
       " 4  0  0  0  0  0  0  0  0  0  0  0  0     0  0  0  0  0  0  0  0  0  0  0  0\n",
       " 9  0  0  0  0  0  0  0  0  0  0  0  0     0  0  0  0  0  0  0  0  0  0  0  0\n",
       " 5  0  0  0  0  0  0  0  0  0  0  0  0     0  0  0  0  0  0  0  0  0  0  0  0\n",
       " 9  0  0  0  0  0  0  0  0  0  0  0  0     0  0  0  0  0  0  0  0  0  0  0  0\n",
       " 0  0  0  0  0  0  0  0  0  0  0  0  0  …  0  0  0  0  0  0  0  0  0  0  0  0\n",
       " 6  0  0  0  0  0  0  0  0  0  0  0  0     0  0  0  0  0  0  0  0  0  0  0  0\n",
       " 9  0  0  0  0  0  0  0  0  0  0  0  0     0  0  0  0  0  0  0  0  0  0  0  0\n",
       " ⋮              ⋮              ⋮        ⋱        ⋮              ⋮           \n",
       " 5  0  0  0  0  0  0  0  0  0  0  0  0     0  0  0  0  0  0  0  0  0  0  0  0\n",
       " 6  0  0  0  0  0  0  0  0  0  0  0  0     0  0  0  0  0  0  0  0  0  0  0  0\n",
       " 7  0  0  0  0  0  0  0  0  0  0  0  0  …  0  0  0  0  0  0  0  0  0  0  0  0\n",
       " 8  0  0  0  0  0  0  0  0  0  0  0  0     0  0  0  0  0  0  0  0  0  0  0  0\n",
       " 9  0  0  0  0  0  0  0  0  0  0  0  0     0  0  0  0  0  0  0  0  0  0  0  0\n",
       " 0  0  0  0  0  0  0  0  0  0  0  0  0     0  0  0  0  0  0  0  0  0  0  0  0\n",
       " 1  0  0  0  0  0  0  0  0  0  0  0  0     0  0  0  0  0  0  0  0  0  0  0  0\n",
       " 2  0  0  0  0  0  0  0  0  0  0  0  0  …  0  0  0  0  0  0  0  0  0  0  0  0\n",
       " 3  0  0  0  0  0  0  0  0  0  0  0  0     0  0  0  0  0  0  0  0  0  0  0  0\n",
       " 4  0  0  0  0  0  0  0  0  0  0  0  0     0  0  0  0  0  0  0  0  0  0  0  0\n",
       " 5  0  0  0  0  0  0  0  0  0  0  0  0     0  0  0  0  0  0  0  0  0  0  0  0\n",
       " 6  0  0  0  0  0  0  0  0  0  0  0  0     0  0  0  0  0  0  0  0  0  0  0  0"
      ]
     },
     "execution_count": 17,
     "metadata": {},
     "output_type": "execute_result"
    }
   ],
   "source": [
    "df = DataFrame(CSV.File(\"mnist_test.csv\")) # load the mnist data base\n",
    "df=convert(Matrix,df)"
   ]
  },
  {
   "cell_type": "code",
   "execution_count": 18,
   "metadata": {},
   "outputs": [
    {
     "data": {
      "text/plain": [
       "784-element Array{Int64,1}:\n",
       " 0\n",
       " 0\n",
       " 0\n",
       " 0\n",
       " 0\n",
       " 0\n",
       " 0\n",
       " 0\n",
       " 0\n",
       " 0\n",
       " 0\n",
       " 0\n",
       " 0\n",
       " ⋮\n",
       " 0\n",
       " 0\n",
       " 0\n",
       " 0\n",
       " 0\n",
       " 0\n",
       " 0\n",
       " 0\n",
       " 0\n",
       " 0\n",
       " 0\n",
       " 0"
      ]
     },
     "execution_count": 18,
     "metadata": {},
     "output_type": "execute_result"
    }
   ],
   "source": [
    "dig = df[5, :] # 5 th digits of the data base\n",
    "dig = dig[2:size(dig)[1]] # we don't care about the label (first element of the vector)"
   ]
  },
  {
   "cell_type": "code",
   "execution_count": 32,
   "metadata": {},
   "outputs": [
    {
     "data": {
      "image/png": "[encoded data removed]",
      "text/plain": [
       "28×28 Array{Gray{Float64},2} with eltype Gray{Float64}:\n",
       " Gray{Float64}(0.0)  Gray{Float64}(0.0)  …  Gray{Float64}(0.0)\n",
       " Gray{Float64}(0.0)  Gray{Float64}(0.0)     Gray{Float64}(0.0)\n",
       " Gray{Float64}(0.0)  Gray{Float64}(0.0)     Gray{Float64}(0.0)\n",
       " Gray{Float64}(0.0)  Gray{Float64}(0.0)     Gray{Float64}(0.0)\n",
       " Gray{Float64}(0.0)  Gray{Float64}(0.0)     Gray{Float64}(0.0)\n",
       " Gray{Float64}(0.0)  Gray{Float64}(0.0)  …  Gray{Float64}(0.0)\n",
       " Gray{Float64}(0.0)  Gray{Float64}(0.0)     Gray{Float64}(0.0)\n",
       " Gray{Float64}(0.0)  Gray{Float64}(0.0)     Gray{Float64}(0.0)\n",
       " Gray{Float64}(0.0)  Gray{Float64}(0.0)     Gray{Float64}(0.0)\n",
       " Gray{Float64}(0.0)  Gray{Float64}(0.0)     Gray{Float64}(0.0)\n",
       " Gray{Float64}(0.0)  Gray{Float64}(0.0)  …  Gray{Float64}(0.0)\n",
       " Gray{Float64}(0.0)  Gray{Float64}(0.0)     Gray{Float64}(0.0)\n",
       " Gray{Float64}(0.0)  Gray{Float64}(0.0)     Gray{Float64}(0.0)\n",
       " ⋮                                       ⋱  \n",
       " Gray{Float64}(0.0)  Gray{Float64}(0.0)     Gray{Float64}(0.0)\n",
       " Gray{Float64}(0.0)  Gray{Float64}(0.0)     Gray{Float64}(0.0)\n",
       " Gray{Float64}(0.0)  Gray{Float64}(0.0)     Gray{Float64}(0.0)\n",
       " Gray{Float64}(0.0)  Gray{Float64}(0.0)     Gray{Float64}(0.0)\n",
       " Gray{Float64}(0.0)  Gray{Float64}(0.0)  …  Gray{Float64}(0.0)\n",
       " Gray{Float64}(0.0)  Gray{Float64}(0.0)     Gray{Float64}(0.0)\n",
       " Gray{Float64}(0.0)  Gray{Float64}(0.0)     Gray{Float64}(0.0)\n",
       " Gray{Float64}(0.0)  Gray{Float64}(0.0)     Gray{Float64}(0.0)\n",
       " Gray{Float64}(0.0)  Gray{Float64}(0.0)     Gray{Float64}(0.0)\n",
       " Gray{Float64}(0.0)  Gray{Float64}(0.0)  …  Gray{Float64}(0.0)\n",
       " Gray{Float64}(0.0)  Gray{Float64}(0.0)     Gray{Float64}(0.0)\n",
       " Gray{Float64}(0.0)  Gray{Float64}(0.0)     Gray{Float64}(0.0)"
      ]
     },
     "execution_count": 32,
     "metadata": {},
     "output_type": "execute_result"
    }
   ],
   "source": [
    "function reshape_(dig)\n",
    "    return transpose(reshape(dig, (28, 28)))\n",
    "end\n",
    "\n",
    "dig_reshaped = reshape_(dig)\n",
    "imshow(dig_reshaped)\n",
    "Gray.(dig_reshaped/255)"
   ]
  },
  {
   "cell_type": "code",
   "execution_count": 20,
   "metadata": {},
   "outputs": [
    {
     "data": {
      "text/plain": [
       "784×2000 Array{Float64,2}:\n",
       "  0.665485  -1.83517    -0.368048   -0.447154   …  -0.974024     -0.779845\n",
       " -1.23294    1.4266     -0.418435    1.48857       -0.388748      0.543367\n",
       "  0.23857    0.518813    0.429761   -0.794383      -1.12312      -0.73399\n",
       " -1.13576    0.209961    1.34023    -1.24511       -0.339383     -0.0233507\n",
       "  0.394063   0.372492   -1.3207     -0.165078      -1.65557       0.158196\n",
       "  0.963916  -0.249568   -0.352342   -0.25269    …  -0.232488      2.44795\n",
       "  0.54187   -0.539682   -0.310167   -1.55411       -0.571026      0.211183\n",
       " -0.23251   -0.872023   -1.24985    -1.02826       -1.07729       0.605429\n",
       " -0.303057   0.235491    1.0203      1.00817        2.84575       0.215911\n",
       "  0.865931   0.631525   -0.095247   -0.430043       0.493455     -0.0654143\n",
       " -0.285714  -1.45697     0.585179    0.423918   …  -0.55176      -0.0591934\n",
       "  0.11506   -1.19139     0.491708    1.1298        -0.390602     -0.660758\n",
       "  1.46429    0.492331    1.16305     0.623688      -0.0582414     0.856504\n",
       "  ⋮                                             ⋱                \n",
       "  0.678191   1.3597      1.38992     2.19418        0.834329     -1.62363\n",
       " -1.31686    1.518       0.0318192  -1.02575        1.24577      -0.296668\n",
       "  0.178864  -0.441023    0.884503    1.18052       -0.253494      0.456736\n",
       " -0.12972   -0.107157    0.932744    0.0576969  …  -0.0685958    -0.823382\n",
       "  1.34321   -0.108534   -0.844055   -0.781185       0.774389      0.201956\n",
       "  1.36237    0.191313    0.399368   -1.32043       -0.660881      1.31432\n",
       "  1.8572     0.213112    0.185537    1.36952        0.000343175  -0.874547\n",
       "  0.867449   0.805741    0.980636   -1.51445        0.0374391    -0.289473\n",
       "  1.111     -0.582165    0.811808    1.66117    …   0.328841      0.860733\n",
       "  0.276808   0.246608   -1.27683     0.191933      -1.86613       0.473896\n",
       " -0.558174   1.01558     0.586233    0.966942       0.248585     -0.105439\n",
       " -0.478625   0.0822049   1.50208     0.566106       0.106073     -1.28357"
      ]
     },
     "execution_count": 20,
     "metadata": {},
     "output_type": "execute_result"
    }
   ],
   "source": [
    "m = 784 # size of digit (28*28)\n",
    "N = 2000 # size of sparse vector\n",
    "A_rd = randn(m,N) # we generate a random dictionnary"
   ]
  },
  {
   "cell_type": "code",
   "execution_count": 35,
   "metadata": {},
   "outputs": [
    {
     "data": {
      "image/png": "[encoded data removed]",
      "text/plain": [
       "28×28 Array{Gray{Float64},2} with eltype Gray{Float64}:\n",
       " Gray{Float64}(-0.204481)   …  Gray{Float64}(0.207984)\n",
       " Gray{Float64}(0.094532)       Gray{Float64}(0.175037)\n",
       " Gray{Float64}(0.0715222)      Gray{Float64}(-0.0261879)\n",
       " Gray{Float64}(-0.11339)       Gray{Float64}(-0.0538574)\n",
       " Gray{Float64}(-0.050034)      Gray{Float64}(0.0766722)\n",
       " Gray{Float64}(-0.0698874)  …  Gray{Float64}(0.0530858)\n",
       " Gray{Float64}(-0.129318)      Gray{Float64}(-0.159871)\n",
       " Gray{Float64}(-0.0308345)     Gray{Float64}(-0.103032)\n",
       " Gray{Float64}(0.00624703)     Gray{Float64}(0.0177638)\n",
       " Gray{Float64}(0.0434695)      Gray{Float64}(0.0884543)\n",
       " Gray{Float64}(-0.0189387)  …  Gray{Float64}(-0.112925)\n",
       " Gray{Float64}(0.19472)        Gray{Float64}(-0.204278)\n",
       " Gray{Float64}(-0.154016)      Gray{Float64}(0.0498529)\n",
       " ⋮                          ⋱  \n",
       " Gray{Float64}(0.0991934)      Gray{Float64}(-0.120795)\n",
       " Gray{Float64}(-0.222508)      Gray{Float64}(0.0397331)\n",
       " Gray{Float64}(0.0734993)      Gray{Float64}(-0.00526173)\n",
       " Gray{Float64}(0.325182)       Gray{Float64}(-0.158095)\n",
       " Gray{Float64}(0.0938802)   …  Gray{Float64}(0.196339)\n",
       " Gray{Float64}(-0.163989)      Gray{Float64}(-0.0177152)\n",
       " Gray{Float64}(0.00392095)     Gray{Float64}(0.059311)\n",
       " Gray{Float64}(-0.0195958)     Gray{Float64}(-0.105542)\n",
       " Gray{Float64}(0.351189)       Gray{Float64}(0.123595)\n",
       " Gray{Float64}(0.0956552)   …  Gray{Float64}(0.169845)\n",
       " Gray{Float64}(-0.0912417)     Gray{Float64}(0.108743)\n",
       " Gray{Float64}(-0.0280192)     Gray{Float64}(-0.281346)"
      ]
     },
     "execution_count": 35,
     "metadata": {},
     "output_type": "execute_result"
    }
   ],
   "source": [
    "# visualize b_hat for one particular example\n",
    "_, recons_digit, _ = compression_reconstruction(dig, A_rd, 200)\n",
    "recons_reshaped = reshape_(recons_digit)\n",
    "imshow(recons_reshaped)\n",
    "Gray.(recons_reshaped/255)"
   ]
  },
  {
   "cell_type": "code",
   "execution_count": 22,
   "metadata": {},
   "outputs": [
    {
     "data": {
      "text/plain": [
       "error_wrt_s (generic function with 1 method)"
      ]
     },
     "execution_count": 22,
     "metadata": {},
     "output_type": "execute_result"
    }
   ],
   "source": [
    "function error_wrt_s(A, smin, smax, step)\n",
    "    # Test the OMP algorithm with different sparsity levels and plot the errr with respect to s\n",
    "    # IN A : dictionnary\n",
    "    # smin, smax, step : test value of s between smin and smax separated by step\n",
    "    s = smin\n",
    "    ss = []\n",
    "    errors = []\n",
    "    \n",
    "    while s < smax\n",
    "        println(\"s=\", s)\n",
    "        _, recons_digit, error = compression_reconstruction(dig, A, s)\n",
    "        println(\"error=\", error)\n",
    "        recons_reshaped = reshape(recons_digit, (28, 28))\n",
    "        err = sum(abs.(recons_digit-dig))/784\n",
    "        #imshow(recons_reshaped)\n",
    "        append!(errors, err)\n",
    "        append!(ss, s)\n",
    "        #a = Gray.(recons_reshaped/255)\n",
    "        s = s + step\n",
    "    end\n",
    "    plot(ss, errors)\n",
    "end"
   ]
  },
  {
   "cell_type": "code",
   "execution_count": 23,
   "metadata": {},
   "outputs": [
    {
     "name": "stdout",
     "output_type": "stream",
     "text": [
      "s=10\n",
      "error=36.60317076270604\n",
      "s=20\n",
      "error=38.89705607179305\n",
      "s=30\n",
      "error=39.877893285194\n",
      "s=40\n",
      "error=39.91329603806385\n",
      "s=50\n",
      "error=39.59039505048603\n",
      "s=60\n",
      "error=39.1579336012233\n",
      "s=70\n",
      "error=39.166046526041924\n",
      "s=80\n",
      "error=38.40735055130442\n",
      "s=90\n",
      "error=37.91117895220428\n",
      "s=100\n",
      "error=37.067915103978414\n",
      "s=110\n",
      "error=36.58823425598027\n",
      "s=120\n",
      "error=36.077311281905736\n",
      "s=130\n",
      "error=35.20840174393788\n",
      "s=140\n",
      "error=34.58385336571114\n",
      "s=150\n",
      "error=33.80852677008009\n",
      "s=160\n",
      "error=32.883198981267014\n",
      "s=170\n",
      "error=32.0769474724012\n",
      "s=180\n",
      "error=31.037742066068468\n",
      "s=190\n",
      "error=30.200837185773448\n",
      "s=200\n",
      "error=29.426811260294734\n"
     ]
    },
    {
     "data": {
      "image/svg+xml": [
       "<?xml version=\"1.0\" encoding=\"utf-8\"?>\n",
       "<svg xmlns=\"http://www.w3.org/2000/svg\" xmlns:xlink=\"http://www.w3.org/1999/xlink\" width=\"600\" height=\"400\" viewBox=\"0 0 2400 1600\">\n",
       "<defs>\n",
       "  <clipPath id=\"clip630\">\n",
       "    <rect x=\"0\" y=\"0\" width=\"2400\" height=\"1600\"/>\n",
       "  </clipPath>\n",
       "</defs>\n",
       "<path clip-path=\"url(#clip630)\" d=\"\n",
       "M0 1600 L2400 1600 L2400 0 L0 0  Z\n",
       "  \" fill=\"#ffffff\" fill-rule=\"evenodd\" fill-opacity=\"1\"/>\n",
       "<defs>\n",
       "  <clipPath id=\"clip631\">\n",
       "    <rect x=\"480\" y=\"0\" width=\"1681\" height=\"1600\"/>\n",
       "  </clipPath>\n",
       "</defs>\n",
       "<path clip-path=\"url(#clip630)\" d=\"\n",
       "M176.158 1486.45 L2352.76 1486.45 L2352.76 47.2441 L176.158 47.2441  Z\n",
       "  \" fill=\"#ffffff\" fill-rule=\"evenodd\" fill-opacity=\"1\"/>\n",
       "<defs>\n",
       "  <clipPath id=\"clip632\">\n",
       "    <rect x=\"176\" y=\"47\" width=\"2178\" height=\"1440\"/>\n",
       "  </clipPath>\n",
       "</defs>\n",
       "<polyline clip-path=\"url(#clip632)\" style=\"stroke:#000000; stroke-width:2; stroke-opacity:0.1; fill:none\" points=\"\n",
       "  670.054,1486.45 670.054,47.2441 \n",
       "  \"/>\n",
       "<polyline clip-path=\"url(#clip632)\" style=\"stroke:#000000; stroke-width:2; stroke-opacity:0.1; fill:none\" points=\"\n",
       "  1210.42,1486.45 1210.42,47.2441 \n",
       "  \"/>\n",
       "<polyline clip-path=\"url(#clip632)\" style=\"stroke:#000000; stroke-width:2; stroke-opacity:0.1; fill:none\" points=\"\n",
       "  1750.79,1486.45 1750.79,47.2441 \n",
       "  \"/>\n",
       "<polyline clip-path=\"url(#clip632)\" style=\"stroke:#000000; stroke-width:2; stroke-opacity:0.1; fill:none\" points=\"\n",
       "  2291.15,1486.45 2291.15,47.2441 \n",
       "  \"/>\n",
       "<polyline clip-path=\"url(#clip630)\" style=\"stroke:#000000; stroke-width:4; stroke-opacity:1; fill:none\" points=\"\n",
       "  176.158,1486.45 2352.76,1486.45 \n",
       "  \"/>\n",
       "<polyline clip-path=\"url(#clip630)\" style=\"stroke:#000000; stroke-width:4; stroke-opacity:1; fill:none\" points=\"\n",
       "  670.054,1486.45 670.054,1469.18 \n",
       "  \"/>\n",
       "<polyline clip-path=\"url(#clip630)\" style=\"stroke:#000000; stroke-width:4; stroke-opacity:1; fill:none\" points=\"\n",
       "  1210.42,1486.45 1210.42,1469.18 \n",
       "  \"/>\n",
       "<polyline clip-path=\"url(#clip630)\" style=\"stroke:#000000; stroke-width:4; stroke-opacity:1; fill:none\" points=\"\n",
       "  1750.79,1486.45 1750.79,1469.18 \n",
       "  \"/>\n",
       "<polyline clip-path=\"url(#clip630)\" style=\"stroke:#000000; stroke-width:4; stroke-opacity:1; fill:none\" points=\"\n",
       "  2291.15,1486.45 2291.15,1469.18 \n",
       "  \"/>\n",
       "<path clip-path=\"url(#clip630)\" d=\"M 0 0 M646.825 1512.56 L665.181 1512.56 L665.181 1516.5 L651.107 1516.5 L651.107 1524.97 Q652.125 1524.62 653.144 1524.46 Q654.162 1524.27 655.181 1524.27 Q660.968 1524.27 664.348 1527.44 Q667.727 1530.62 667.727 1536.03 Q667.727 1541.61 664.255 1544.71 Q660.783 1547.79 654.463 1547.79 Q652.287 1547.79 650.019 1547.42 Q647.774 1547.05 645.366 1546.31 L645.366 1541.61 Q647.45 1542.74 649.672 1543.3 Q651.894 1543.86 654.371 1543.86 Q658.375 1543.86 660.713 1541.75 Q663.051 1539.64 663.051 1536.03 Q663.051 1532.42 660.713 1530.31 Q658.375 1528.21 654.371 1528.21 Q652.496 1528.21 650.621 1528.62 Q648.769 1529.04 646.825 1529.92 L646.825 1512.56 Z\" fill=\"#000000\" fill-rule=\"evenodd\" fill-opacity=\"1\" /><path clip-path=\"url(#clip630)\" d=\"M 0 0 M682.797 1515.64 Q679.185 1515.64 677.357 1519.2 Q675.551 1522.75 675.551 1529.87 Q675.551 1536.98 677.357 1540.55 Q679.185 1544.09 682.797 1544.09 Q686.431 1544.09 688.236 1540.55 Q690.065 1536.98 690.065 1529.87 Q690.065 1522.75 688.236 1519.2 Q686.431 1515.64 682.797 1515.64 M682.797 1511.93 Q688.607 1511.93 691.662 1516.54 Q694.741 1521.12 694.741 1529.87 Q694.741 1538.6 691.662 1543.21 Q688.607 1547.79 682.797 1547.79 Q676.986 1547.79 673.908 1543.21 Q670.852 1538.6 670.852 1529.87 Q670.852 1521.12 673.908 1516.54 Q676.986 1511.93 682.797 1511.93 Z\" fill=\"#000000\" fill-rule=\"evenodd\" fill-opacity=\"1\" /><path clip-path=\"url(#clip630)\" d=\"M 0 0 M1173.79 1543.18 L1181.43 1543.18 L1181.43 1516.82 L1173.12 1518.49 L1173.12 1514.23 L1181.38 1512.56 L1186.06 1512.56 L1186.06 1543.18 L1193.7 1543.18 L1193.7 1547.12 L1173.79 1547.12 L1173.79 1543.18 Z\" fill=\"#000000\" fill-rule=\"evenodd\" fill-opacity=\"1\" /><path clip-path=\"url(#clip630)\" d=\"M 0 0 M1208.77 1515.64 Q1205.15 1515.64 1203.33 1519.2 Q1201.52 1522.75 1201.52 1529.87 Q1201.52 1536.98 1203.33 1540.55 Q1205.15 1544.09 1208.77 1544.09 Q1212.4 1544.09 1214.21 1540.55 Q1216.03 1536.98 1216.03 1529.87 Q1216.03 1522.75 1214.21 1519.2 Q1212.4 1515.64 1208.77 1515.64 M1208.77 1511.93 Q1214.58 1511.93 1217.63 1516.54 Q1220.71 1521.12 1220.71 1529.87 Q1220.71 1538.6 1217.63 1543.21 Q1214.58 1547.79 1208.77 1547.79 Q1202.96 1547.79 1199.88 1543.21 Q1196.82 1538.6 1196.82 1529.87 Q1196.82 1521.12 1199.88 1516.54 Q1202.96 1511.93 1208.77 1511.93 Z\" fill=\"#000000\" fill-rule=\"evenodd\" fill-opacity=\"1\" /><path clip-path=\"url(#clip630)\" d=\"M 0 0 M1235.78 1515.64 Q1232.17 1515.64 1230.34 1519.2 Q1228.53 1522.75 1228.53 1529.87 Q1228.53 1536.98 1230.34 1540.55 Q1232.17 1544.09 1235.78 1544.09 Q1239.41 1544.09 1241.22 1540.55 Q1243.05 1536.98 1243.05 1529.87 Q1243.05 1522.75 1241.22 1519.2 Q1239.41 1515.64 1235.78 1515.64 M1235.78 1511.93 Q1241.59 1511.93 1244.64 1516.54 Q1247.72 1521.12 1247.72 1529.87 Q1247.72 1538.6 1244.64 1543.21 Q1241.59 1547.79 1235.78 1547.79 Q1229.97 1547.79 1226.89 1543.21 Q1223.83 1538.6 1223.83 1529.87 Q1223.83 1521.12 1226.89 1516.54 Q1229.97 1511.93 1235.78 1511.93 Z\" fill=\"#000000\" fill-rule=\"evenodd\" fill-opacity=\"1\" /><path clip-path=\"url(#clip630)\" d=\"M 0 0 M1714.65 1543.18 L1722.29 1543.18 L1722.29 1516.82 L1713.98 1518.49 L1713.98 1514.23 L1722.25 1512.56 L1726.92 1512.56 L1726.92 1543.18 L1734.56 1543.18 L1734.56 1547.12 L1714.65 1547.12 L1714.65 1543.18 Z\" fill=\"#000000\" fill-rule=\"evenodd\" fill-opacity=\"1\" /><path clip-path=\"url(#clip630)\" d=\"M 0 0 M1739.68 1512.56 L1758.03 1512.56 L1758.03 1516.5 L1743.96 1516.5 L1743.96 1524.97 Q1744.98 1524.62 1746 1524.46 Q1747.01 1524.27 1748.03 1524.27 Q1753.82 1524.27 1757.2 1527.44 Q1760.58 1530.62 1760.58 1536.03 Q1760.58 1541.61 1757.11 1544.71 Q1753.63 1547.79 1747.32 1547.79 Q1745.14 1547.79 1742.87 1547.42 Q1740.63 1547.05 1738.22 1546.31 L1738.22 1541.61 Q1740.3 1542.74 1742.52 1543.3 Q1744.75 1543.86 1747.22 1543.86 Q1751.23 1543.86 1753.57 1541.75 Q1755.9 1539.64 1755.9 1536.03 Q1755.9 1532.42 1753.57 1530.31 Q1751.23 1528.21 1747.22 1528.21 Q1745.35 1528.21 1743.47 1528.62 Q1741.62 1529.04 1739.68 1529.92 L1739.68 1512.56 Z\" fill=\"#000000\" fill-rule=\"evenodd\" fill-opacity=\"1\" /><path clip-path=\"url(#clip630)\" d=\"M 0 0 M1775.65 1515.64 Q1772.04 1515.64 1770.21 1519.2 Q1768.4 1522.75 1768.4 1529.87 Q1768.4 1536.98 1770.21 1540.55 Q1772.04 1544.09 1775.65 1544.09 Q1779.28 1544.09 1781.09 1540.55 Q1782.92 1536.98 1782.92 1529.87 Q1782.92 1522.75 1781.09 1519.2 Q1779.28 1515.64 1775.65 1515.64 M1775.65 1511.93 Q1781.46 1511.93 1784.51 1516.54 Q1787.59 1521.12 1787.59 1529.87 Q1787.59 1538.6 1784.51 1543.21 Q1781.46 1547.79 1775.65 1547.79 Q1769.84 1547.79 1766.76 1543.21 Q1763.7 1538.6 1763.7 1529.87 Q1763.7 1521.12 1766.76 1516.54 Q1769.84 1511.93 1775.65 1511.93 Z\" fill=\"#000000\" fill-rule=\"evenodd\" fill-opacity=\"1\" /><path clip-path=\"url(#clip630)\" d=\"M 0 0 M2258.79 1543.18 L2275.11 1543.18 L2275.11 1547.12 L2253.17 1547.12 L2253.17 1543.18 Q2255.83 1540.43 2260.41 1535.8 Q2265.02 1531.15 2266.2 1529.81 Q2268.45 1527.28 2269.33 1525.55 Q2270.23 1523.79 2270.23 1522.1 Q2270.23 1519.34 2268.28 1517.61 Q2266.36 1515.87 2263.26 1515.87 Q2261.06 1515.87 2258.61 1516.63 Q2256.18 1517.4 2253.4 1518.95 L2253.4 1514.23 Q2256.22 1513.09 2258.68 1512.51 Q2261.13 1511.93 2263.17 1511.93 Q2268.54 1511.93 2271.73 1514.62 Q2274.93 1517.31 2274.93 1521.8 Q2274.93 1523.93 2274.12 1525.85 Q2273.33 1527.74 2271.22 1530.34 Q2270.64 1531.01 2267.54 1534.23 Q2264.44 1537.42 2258.79 1543.18 Z\" fill=\"#000000\" fill-rule=\"evenodd\" fill-opacity=\"1\" /><path clip-path=\"url(#clip630)\" d=\"M 0 0 M2290.18 1515.64 Q2286.57 1515.64 2284.74 1519.2 Q2282.94 1522.75 2282.94 1529.87 Q2282.94 1536.98 2284.74 1540.55 Q2286.57 1544.09 2290.18 1544.09 Q2293.82 1544.09 2295.62 1540.55 Q2297.45 1536.98 2297.45 1529.87 Q2297.45 1522.75 2295.62 1519.2 Q2293.82 1515.64 2290.18 1515.64 M2290.18 1511.93 Q2295.99 1511.93 2299.05 1516.54 Q2302.13 1521.12 2302.13 1529.87 Q2302.13 1538.6 2299.05 1543.21 Q2295.99 1547.79 2290.18 1547.79 Q2284.37 1547.79 2281.29 1543.21 Q2278.24 1538.6 2278.24 1529.87 Q2278.24 1521.12 2281.29 1516.54 Q2284.37 1511.93 2290.18 1511.93 Z\" fill=\"#000000\" fill-rule=\"evenodd\" fill-opacity=\"1\" /><path clip-path=\"url(#clip630)\" d=\"M 0 0 M2317.2 1515.64 Q2313.58 1515.64 2311.76 1519.2 Q2309.95 1522.75 2309.95 1529.87 Q2309.95 1536.98 2311.76 1540.55 Q2313.58 1544.09 2317.2 1544.09 Q2320.83 1544.09 2322.64 1540.55 Q2324.46 1536.98 2324.46 1529.87 Q2324.46 1522.75 2322.64 1519.2 Q2320.83 1515.64 2317.2 1515.64 M2317.2 1511.93 Q2323.01 1511.93 2326.06 1516.54 Q2329.14 1521.12 2329.14 1529.87 Q2329.14 1538.6 2326.06 1543.21 Q2323.01 1547.79 2317.2 1547.79 Q2311.39 1547.79 2308.31 1543.21 Q2305.25 1538.6 2305.25 1529.87 Q2305.25 1521.12 2308.31 1516.54 Q2311.39 1511.93 2317.2 1511.93 Z\" fill=\"#000000\" fill-rule=\"evenodd\" fill-opacity=\"1\" /><polyline clip-path=\"url(#clip632)\" style=\"stroke:#000000; stroke-width:2; stroke-opacity:0.1; fill:none\" points=\"\n",
       "  176.158,1371.5 2352.76,1371.5 \n",
       "  \"/>\n",
       "<polyline clip-path=\"url(#clip632)\" style=\"stroke:#000000; stroke-width:2; stroke-opacity:0.1; fill:none\" points=\"\n",
       "  176.158,1047.81 2352.76,1047.81 \n",
       "  \"/>\n",
       "<polyline clip-path=\"url(#clip632)\" style=\"stroke:#000000; stroke-width:2; stroke-opacity:0.1; fill:none\" points=\"\n",
       "  176.158,724.126 2352.76,724.126 \n",
       "  \"/>\n",
       "<polyline clip-path=\"url(#clip632)\" style=\"stroke:#000000; stroke-width:2; stroke-opacity:0.1; fill:none\" points=\"\n",
       "  176.158,400.438 2352.76,400.438 \n",
       "  \"/>\n",
       "<polyline clip-path=\"url(#clip632)\" style=\"stroke:#000000; stroke-width:2; stroke-opacity:0.1; fill:none\" points=\"\n",
       "  176.158,76.7503 2352.76,76.7503 \n",
       "  \"/>\n",
       "<polyline clip-path=\"url(#clip630)\" style=\"stroke:#000000; stroke-width:4; stroke-opacity:1; fill:none\" points=\"\n",
       "  176.158,1486.45 176.158,47.2441 \n",
       "  \"/>\n",
       "<polyline clip-path=\"url(#clip630)\" style=\"stroke:#000000; stroke-width:4; stroke-opacity:1; fill:none\" points=\"\n",
       "  176.158,1371.5 202.277,1371.5 \n",
       "  \"/>\n",
       "<polyline clip-path=\"url(#clip630)\" style=\"stroke:#000000; stroke-width:4; stroke-opacity:1; fill:none\" points=\"\n",
       "  176.158,1047.81 202.277,1047.81 \n",
       "  \"/>\n",
       "<polyline clip-path=\"url(#clip630)\" style=\"stroke:#000000; stroke-width:4; stroke-opacity:1; fill:none\" points=\"\n",
       "  176.158,724.126 202.277,724.126 \n",
       "  \"/>\n",
       "<polyline clip-path=\"url(#clip630)\" style=\"stroke:#000000; stroke-width:4; stroke-opacity:1; fill:none\" points=\"\n",
       "  176.158,400.438 202.277,400.438 \n",
       "  \"/>\n",
       "<polyline clip-path=\"url(#clip630)\" style=\"stroke:#000000; stroke-width:4; stroke-opacity:1; fill:none\" points=\"\n",
       "  176.158,76.7503 202.277,76.7503 \n",
       "  \"/>\n",
       "<path clip-path=\"url(#clip630)\" d=\"M 0 0 M69.0476 1370.15 Q72.404 1370.87 74.279 1373.13 Q76.1772 1375.4 76.1772 1378.74 Q76.1772 1383.85 72.6587 1386.65 Q69.1402 1389.45 62.6587 1389.45 Q60.4828 1389.45 58.168 1389.01 Q55.8764 1388.6 53.4227 1387.74 L53.4227 1383.23 Q55.3671 1384.36 57.6819 1384.94 Q59.9967 1385.52 62.5198 1385.52 Q66.918 1385.52 69.2096 1383.78 Q71.5244 1382.05 71.5244 1378.74 Q71.5244 1375.68 69.3717 1373.97 Q67.242 1372.23 63.4226 1372.23 L59.3949 1372.23 L59.3949 1368.39 L63.6078 1368.39 Q67.0569 1368.39 68.8855 1367.02 Q70.7142 1365.63 70.7142 1363.04 Q70.7142 1360.38 68.8161 1358.97 Q66.9411 1357.53 63.4226 1357.53 Q61.5013 1357.53 59.3023 1357.95 Q57.1032 1358.37 54.4643 1359.25 L54.4643 1355.08 Q57.1264 1354.34 59.4412 1353.97 Q61.7791 1353.6 63.8393 1353.6 Q69.1633 1353.6 72.2652 1356.03 Q75.367 1358.43 75.367 1362.56 Q75.367 1365.43 73.7235 1367.42 Q72.08 1369.38 69.0476 1370.15 Z\" fill=\"#000000\" fill-rule=\"evenodd\" fill-opacity=\"1\" /><path clip-path=\"url(#clip630)\" d=\"M 0 0 M91.2465 1357.3 Q87.6354 1357.3 85.8068 1360.87 Q84.0012 1364.41 84.0012 1371.54 Q84.0012 1378.64 85.8068 1382.21 Q87.6354 1385.75 91.2465 1385.75 Q94.8808 1385.75 96.6863 1382.21 Q98.515 1378.64 98.515 1371.54 Q98.515 1364.41 96.6863 1360.87 Q94.8808 1357.3 91.2465 1357.3 M91.2465 1353.6 Q97.0567 1353.6 100.112 1358.2 Q103.191 1362.79 103.191 1371.54 Q103.191 1380.26 100.112 1384.87 Q97.0567 1389.45 91.2465 1389.45 Q85.4364 1389.45 82.3577 1384.87 Q79.3022 1380.26 79.3022 1371.54 Q79.3022 1362.79 82.3577 1358.2 Q85.4364 1353.6 91.2465 1353.6 Z\" fill=\"#000000\" fill-rule=\"evenodd\" fill-opacity=\"1\" /><path clip-path=\"url(#clip630)\" d=\"M 0 0 M108.26 1382.9 L113.145 1382.9 L113.145 1388.78 L108.26 1388.78 L108.26 1382.9 Z\" fill=\"#000000\" fill-rule=\"evenodd\" fill-opacity=\"1\" /><path clip-path=\"url(#clip630)\" d=\"M 0 0 M128.214 1357.3 Q124.603 1357.3 122.774 1360.87 Q120.969 1364.41 120.969 1371.54 Q120.969 1378.64 122.774 1382.21 Q124.603 1385.75 128.214 1385.75 Q131.848 1385.75 133.654 1382.21 Q135.482 1378.64 135.482 1371.54 Q135.482 1364.41 133.654 1360.87 Q131.848 1357.3 128.214 1357.3 M128.214 1353.6 Q134.024 1353.6 137.08 1358.2 Q140.158 1362.79 140.158 1371.54 Q140.158 1380.26 137.08 1384.87 Q134.024 1389.45 128.214 1389.45 Q122.404 1389.45 119.325 1384.87 Q116.27 1380.26 116.27 1371.54 Q116.27 1362.79 119.325 1358.2 Q122.404 1353.6 128.214 1353.6 Z\" fill=\"#000000\" fill-rule=\"evenodd\" fill-opacity=\"1\" /><path clip-path=\"url(#clip630)\" d=\"M 0 0 M71.6402 1046.46 Q74.9966 1047.18 76.8716 1049.45 Q78.7698 1051.71 78.7698 1055.05 Q78.7698 1060.16 75.2513 1062.96 Q71.7328 1065.77 65.2513 1065.77 Q63.0754 1065.77 60.7606 1065.33 Q58.4689 1064.91 56.0152 1064.05 L56.0152 1059.54 Q57.9597 1060.67 60.2745 1061.25 Q62.5893 1061.83 65.1124 1061.83 Q69.5105 1061.83 71.8022 1060.09 Q74.117 1058.36 74.117 1055.05 Q74.117 1051.99 71.9642 1050.28 Q69.8346 1048.54 66.0152 1048.54 L61.9874 1048.54 L61.9874 1044.7 L66.2004 1044.7 Q69.6494 1044.7 71.4781 1043.33 Q73.3068 1041.95 73.3068 1039.35 Q73.3068 1036.69 71.4087 1035.28 Q69.5337 1033.84 66.0152 1033.84 Q64.0939 1033.84 61.8948 1034.26 Q59.6958 1034.68 57.0569 1035.56 L57.0569 1031.39 Q59.7189 1030.65 62.0337 1030.28 Q64.3717 1029.91 66.4319 1029.91 Q71.7559 1029.91 74.8577 1032.34 Q77.9596 1034.75 77.9596 1038.87 Q77.9596 1041.74 76.3161 1043.73 Q74.6726 1045.7 71.6402 1046.46 Z\" fill=\"#000000\" fill-rule=\"evenodd\" fill-opacity=\"1\" /><path clip-path=\"url(#clip630)\" d=\"M 0 0 M87.8669 1061.16 L104.186 1061.16 L104.186 1065.09 L82.242 1065.09 L82.242 1061.16 Q84.904 1058.4 89.4873 1053.77 Q94.0937 1049.12 95.2743 1047.78 Q97.5197 1045.26 98.3993 1043.52 Q99.3021 1041.76 99.3021 1040.07 Q99.3021 1037.32 97.3576 1035.58 Q95.4363 1033.84 92.3345 1033.84 Q90.1354 1033.84 87.6817 1034.61 Q85.2512 1035.37 82.4734 1036.92 L82.4734 1032.2 Q85.2975 1031.07 87.7512 1030.49 Q90.2049 1029.91 92.2419 1029.91 Q97.6122 1029.91 100.807 1032.59 Q104.001 1035.28 104.001 1039.77 Q104.001 1041.9 103.191 1043.82 Q102.404 1045.72 100.297 1048.31 Q99.7187 1048.98 96.6169 1052.2 Q93.515 1055.4 87.8669 1061.16 Z\" fill=\"#000000\" fill-rule=\"evenodd\" fill-opacity=\"1\" /><path clip-path=\"url(#clip630)\" d=\"M 0 0 M109.256 1059.21 L114.14 1059.21 L114.14 1065.09 L109.256 1065.09 L109.256 1059.21 Z\" fill=\"#000000\" fill-rule=\"evenodd\" fill-opacity=\"1\" /><path clip-path=\"url(#clip630)\" d=\"M 0 0 M119.256 1030.53 L137.612 1030.53 L137.612 1034.47 L123.538 1034.47 L123.538 1042.94 Q124.557 1042.59 125.575 1042.43 Q126.594 1042.25 127.612 1042.25 Q133.399 1042.25 136.779 1045.42 Q140.158 1048.59 140.158 1054.01 Q140.158 1059.58 136.686 1062.69 Q133.214 1065.77 126.894 1065.77 Q124.719 1065.77 122.45 1065.39 Q120.205 1065.02 117.797 1064.28 L117.797 1059.58 Q119.881 1060.72 122.103 1061.27 Q124.325 1061.83 126.802 1061.83 Q130.807 1061.83 133.144 1059.72 Q135.482 1057.62 135.482 1054.01 Q135.482 1050.4 133.144 1048.29 Q130.807 1046.18 126.802 1046.18 Q124.927 1046.18 123.052 1046.6 Q121.2 1047.02 119.256 1047.9 L119.256 1030.53 Z\" fill=\"#000000\" fill-rule=\"evenodd\" fill-opacity=\"1\" /><path clip-path=\"url(#clip630)\" d=\"M 0 0 M70.0429 722.772 Q73.3994 723.49 75.2744 725.758 Q77.1725 728.027 77.1725 731.36 Q77.1725 736.476 73.654 739.277 Q70.1355 742.077 63.6541 742.077 Q61.4782 742.077 59.1634 741.638 Q56.8717 741.221 54.418 740.364 L54.418 735.851 Q56.3625 736.985 58.6773 737.564 Q60.9921 738.142 63.5152 738.142 Q67.9133 738.142 70.205 736.406 Q72.5198 734.67 72.5198 731.36 Q72.5198 728.304 70.367 726.591 Q68.2374 724.855 64.418 724.855 L60.3902 724.855 L60.3902 721.013 L64.6032 721.013 Q68.0522 721.013 69.8809 719.647 Q71.7096 718.258 71.7096 715.666 Q71.7096 713.003 69.8115 711.591 Q67.9365 710.156 64.418 710.156 Q62.4967 710.156 60.2976 710.573 Q58.0986 710.99 55.4597 711.869 L55.4597 707.703 Q58.1217 706.962 60.4365 706.591 Q62.7745 706.221 64.8346 706.221 Q70.1587 706.221 73.2605 708.652 Q76.3624 711.059 76.3624 715.179 Q76.3624 718.05 74.7189 720.04 Q73.0753 722.008 70.0429 722.772 Z\" fill=\"#000000\" fill-rule=\"evenodd\" fill-opacity=\"1\" /><path clip-path=\"url(#clip630)\" d=\"M 0 0 M82.2883 706.846 L100.645 706.846 L100.645 710.781 L86.5706 710.781 L86.5706 719.253 Q87.5892 718.906 88.6077 718.744 Q89.6262 718.559 90.6447 718.559 Q96.4317 718.559 99.8113 721.73 Q103.191 724.902 103.191 730.318 Q103.191 735.897 99.7187 738.999 Q96.2465 742.077 89.9271 742.077 Q87.7512 742.077 85.4827 741.707 Q83.2373 741.337 80.8299 740.596 L80.8299 735.897 Q82.9133 737.031 85.1355 737.587 Q87.3577 738.142 89.8345 738.142 Q93.8391 738.142 96.1771 736.036 Q98.515 733.929 98.515 730.318 Q98.515 726.707 96.1771 724.601 Q93.8391 722.494 89.8345 722.494 Q87.9595 722.494 86.0845 722.911 Q84.2327 723.328 82.2883 724.207 L82.2883 706.846 Z\" fill=\"#000000\" fill-rule=\"evenodd\" fill-opacity=\"1\" /><path clip-path=\"url(#clip630)\" d=\"M 0 0 M108.26 735.527 L113.145 735.527 L113.145 741.406 L108.26 741.406 L108.26 735.527 Z\" fill=\"#000000\" fill-rule=\"evenodd\" fill-opacity=\"1\" /><path clip-path=\"url(#clip630)\" d=\"M 0 0 M128.214 709.925 Q124.603 709.925 122.774 713.49 Q120.969 717.031 120.969 724.161 Q120.969 731.267 122.774 734.832 Q124.603 738.374 128.214 738.374 Q131.848 738.374 133.654 734.832 Q135.482 731.267 135.482 724.161 Q135.482 717.031 133.654 713.49 Q131.848 709.925 128.214 709.925 M128.214 706.221 Q134.024 706.221 137.08 710.828 Q140.158 715.411 140.158 724.161 Q140.158 732.888 137.08 737.494 Q134.024 742.077 128.214 742.077 Q122.404 742.077 119.325 737.494 Q116.27 732.888 116.27 724.161 Q116.27 715.411 119.325 710.828 Q122.404 706.221 128.214 706.221 Z\" fill=\"#000000\" fill-rule=\"evenodd\" fill-opacity=\"1\" /><path clip-path=\"url(#clip630)\" d=\"M 0 0 M70.9457 399.084 Q74.3022 399.802 76.1772 402.07 Q78.0753 404.339 78.0753 407.672 Q78.0753 412.788 74.5568 415.589 Q71.0383 418.389 64.5569 418.389 Q62.381 418.389 60.0662 417.95 Q57.7745 417.533 55.3208 416.677 L55.3208 412.163 Q57.2652 413.297 59.58 413.876 Q61.8948 414.454 64.418 414.454 Q68.8161 414.454 71.1078 412.718 Q73.4226 410.982 73.4226 407.672 Q73.4226 404.616 71.2698 402.903 Q69.1402 401.167 65.3208 401.167 L61.293 401.167 L61.293 397.325 L65.5059 397.325 Q68.955 397.325 70.7837 395.959 Q72.6124 394.57 72.6124 391.978 Q72.6124 389.316 70.7142 387.904 Q68.8393 386.468 65.3208 386.468 Q63.3995 386.468 61.2004 386.885 Q59.0013 387.302 56.3625 388.181 L56.3625 384.015 Q59.0245 383.274 61.3393 382.904 Q63.6772 382.533 65.7374 382.533 Q71.0615 382.533 74.1633 384.964 Q77.2651 387.371 77.2651 391.491 Q77.2651 394.362 75.6216 396.353 Q73.9781 398.32 70.9457 399.084 Z\" fill=\"#000000\" fill-rule=\"evenodd\" fill-opacity=\"1\" /><path clip-path=\"url(#clip630)\" d=\"M 0 0 M81.9642 383.158 L104.186 383.158 L104.186 385.149 L91.6401 417.718 L86.7558 417.718 L98.5613 387.093 L81.9642 387.093 L81.9642 383.158 Z\" fill=\"#000000\" fill-rule=\"evenodd\" fill-opacity=\"1\" /><path clip-path=\"url(#clip630)\" d=\"M 0 0 M109.256 411.839 L114.14 411.839 L114.14 417.718 L109.256 417.718 L109.256 411.839 Z\" fill=\"#000000\" fill-rule=\"evenodd\" fill-opacity=\"1\" /><path clip-path=\"url(#clip630)\" d=\"M 0 0 M119.256 383.158 L137.612 383.158 L137.612 387.093 L123.538 387.093 L123.538 395.566 Q124.557 395.218 125.575 395.056 Q126.594 394.871 127.612 394.871 Q133.399 394.871 136.779 398.042 Q140.158 401.214 140.158 406.63 Q140.158 412.209 136.686 415.311 Q133.214 418.389 126.894 418.389 Q124.719 418.389 122.45 418.019 Q120.205 417.649 117.797 416.908 L117.797 412.209 Q119.881 413.343 122.103 413.899 Q124.325 414.454 126.802 414.454 Q130.807 414.454 133.144 412.348 Q135.482 410.241 135.482 406.63 Q135.482 403.019 133.144 400.913 Q130.807 398.806 126.802 398.806 Q124.927 398.806 123.052 399.223 Q121.2 399.64 119.256 400.519 L119.256 383.158 Z\" fill=\"#000000\" fill-rule=\"evenodd\" fill-opacity=\"1\" /><path clip-path=\"url(#clip630)\" d=\"M 0 0 M66.5939 63.5443 L54.7884 81.9933 L66.5939 81.9933 L66.5939 63.5443 M65.367 59.4703 L71.2466 59.4703 L71.2466 81.9933 L76.1772 81.9933 L76.1772 85.8822 L71.2466 85.8822 L71.2466 94.0303 L66.5939 94.0303 L66.5939 85.8822 L50.9921 85.8822 L50.9921 81.3683 L65.367 59.4703 Z\" fill=\"#000000\" fill-rule=\"evenodd\" fill-opacity=\"1\" /><path clip-path=\"url(#clip630)\" d=\"M 0 0 M91.2465 62.549 Q87.6354 62.549 85.8068 66.1137 Q84.0012 69.6554 84.0012 76.785 Q84.0012 83.8914 85.8068 87.4562 Q87.6354 90.9979 91.2465 90.9979 Q94.8808 90.9979 96.6863 87.4562 Q98.515 83.8914 98.515 76.785 Q98.515 69.6554 96.6863 66.1137 Q94.8808 62.549 91.2465 62.549 M91.2465 58.8453 Q97.0567 58.8453 100.112 63.4517 Q103.191 68.035 103.191 76.785 Q103.191 85.5118 100.112 90.1183 Q97.0567 94.7016 91.2465 94.7016 Q85.4364 94.7016 82.3577 90.1183 Q79.3022 85.5118 79.3022 76.785 Q79.3022 68.035 82.3577 63.4517 Q85.4364 58.8453 91.2465 58.8453 Z\" fill=\"#000000\" fill-rule=\"evenodd\" fill-opacity=\"1\" /><path clip-path=\"url(#clip630)\" d=\"M 0 0 M108.26 88.1507 L113.145 88.1507 L113.145 94.0303 L108.26 94.0303 L108.26 88.1507 Z\" fill=\"#000000\" fill-rule=\"evenodd\" fill-opacity=\"1\" /><path clip-path=\"url(#clip630)\" d=\"M 0 0 M128.214 62.549 Q124.603 62.549 122.774 66.1137 Q120.969 69.6554 120.969 76.785 Q120.969 83.8914 122.774 87.4562 Q124.603 90.9979 128.214 90.9979 Q131.848 90.9979 133.654 87.4562 Q135.482 83.8914 135.482 76.785 Q135.482 69.6554 133.654 66.1137 Q131.848 62.549 128.214 62.549 M128.214 58.8453 Q134.024 58.8453 137.08 63.4517 Q140.158 68.035 140.158 76.785 Q140.158 85.5118 137.08 90.1183 Q134.024 94.7016 128.214 94.7016 Q122.404 94.7016 119.325 90.1183 Q116.27 85.5118 116.27 76.785 Q116.27 68.035 119.325 63.4517 Q122.404 58.8453 128.214 58.8453 Z\" fill=\"#000000\" fill-rule=\"evenodd\" fill-opacity=\"1\" /><polyline clip-path=\"url(#clip632)\" style=\"stroke:#009af9; stroke-width:4; stroke-opacity:1; fill:none\" points=\"\n",
       "  237.76,516.555 345.833,219.554 453.907,92.5601 561.98,87.9763 670.054,129.784 778.127,185.777 886.2,184.727 994.274,282.959 1102.35,347.201 1210.42,456.382 \n",
       "  1318.49,518.489 1426.57,584.641 1534.64,697.143 1642.71,778.007 1750.79,878.392 1858.86,998.199 1966.93,1102.59 2075.01,1237.14 2183.08,1345.5 2291.15,1445.72 \n",
       "  \n",
       "  \"/>\n",
       "<path clip-path=\"url(#clip630)\" d=\"\n",
       "M1987.34 216.178 L2280.2 216.178 L2280.2 95.2176 L1987.34 95.2176  Z\n",
       "  \" fill=\"#ffffff\" fill-rule=\"evenodd\" fill-opacity=\"1\"/>\n",
       "<polyline clip-path=\"url(#clip630)\" style=\"stroke:#000000; stroke-width:4; stroke-opacity:1; fill:none\" points=\"\n",
       "  1987.34,216.178 2280.2,216.178 2280.2,95.2176 1987.34,95.2176 1987.34,216.178 \n",
       "  \"/>\n",
       "<polyline clip-path=\"url(#clip630)\" style=\"stroke:#009af9; stroke-width:4; stroke-opacity:1; fill:none\" points=\"\n",
       "  2011.52,155.698 2156.63,155.698 \n",
       "  \"/>\n",
       "<path clip-path=\"url(#clip630)\" d=\"M 0 0 M2194.66 175.385 Q2192.85 180.015 2191.14 181.427 Q2189.43 182.839 2186.56 182.839 L2183.15 182.839 L2183.15 179.274 L2185.65 179.274 Q2187.41 179.274 2188.38 178.44 Q2189.36 177.607 2190.54 174.505 L2191.3 172.561 L2180.82 147.052 L2185.33 147.052 L2193.43 167.329 L2201.53 147.052 L2206.05 147.052 L2194.66 175.385 Z\" fill=\"#000000\" fill-rule=\"evenodd\" fill-opacity=\"1\" /><path clip-path=\"url(#clip630)\" d=\"M 0 0 M2211.93 169.042 L2219.57 169.042 L2219.57 142.677 L2211.26 144.343 L2211.26 140.084 L2219.52 138.418 L2224.19 138.418 L2224.19 169.042 L2231.83 169.042 L2231.83 172.978 L2211.93 172.978 L2211.93 169.042 Z\" fill=\"#000000\" fill-rule=\"evenodd\" fill-opacity=\"1\" /></svg>\n"
      ]
     },
     "execution_count": 23,
     "metadata": {},
     "output_type": "execute_result"
    }
   ],
   "source": [
    "# test different value of s for OMP on random basis\n",
    "error_wrt_s(A_rd, 10, 210, 10)"
   ]
  },
  {
   "cell_type": "markdown",
   "metadata": {},
   "source": [
    "We can notice that the error first increases and reach a maximum for s=40, then it decreases more or lesslinearly. It seems not to be a particular case since I observed similar behaviour with other digits. \n",
    "\n",
    "The error l1 with s=200 is 30, with a gray color scale between 0 and 255"
   ]
  },
  {
   "cell_type": "code",
   "execution_count": 24,
   "metadata": {},
   "outputs": [],
   "source": [
    "using ImageView"
   ]
  },
  {
   "cell_type": "code",
   "execution_count": 25,
   "metadata": {},
   "outputs": [
    {
     "data": {
      "text/plain": [
       "cosine_basis (generic function with 1 method)"
      ]
     },
     "execution_count": 25,
     "metadata": {},
     "output_type": "execute_result"
    }
   ],
   "source": [
    "function cosine_basis(m, N, freq_min, freq_max)\n",
    "    # generate a cosine dictionary : each column is a cosinus function. The frequency increases with the column index\n",
    "    # freq_min = frequency of first column , freq_max frequency of last column\n",
    "    A = zeros(m, N)\n",
    "    f = 0\n",
    "    f_step = (freq_max - freq_min)/N\n",
    "    for t in 1:m\n",
    "        for j in 1:N\n",
    "            A[t, j] = cos(2*pi*f*t)\n",
    "            f = f + f_step\n",
    "        end\n",
    "    end\n",
    "    return A\n",
    "end\n"
   ]
  },
  {
   "cell_type": "code",
   "execution_count": 26,
   "metadata": {},
   "outputs": [
    {
     "data": {
      "text/plain": [
       "784×2000 Array{Float64,2}:\n",
       " 1.0        0.827081    0.368125    …  -0.218143   0.368125     0.827081\n",
       " 1.0        0.368125   -0.728969       -0.904827  -0.728969     0.368125\n",
       " 1.0       -0.218143   -0.904827        0.612907  -0.904827    -0.218143\n",
       " 1.0       -0.728969    0.0627905       0.637424   0.0627905   -0.728969\n",
       " 1.0       -0.987688    0.951057       -0.891007   0.951057    -0.987688\n",
       " 1.0       -0.904827    0.637424    …  -0.24869    0.637424    -0.904827\n",
       " 1.0       -0.509041   -0.481754        0.999507  -0.481754    -0.509041\n",
       " 1.0        0.0627905  -0.992115       -0.187381  -0.992115     0.0627905\n",
       " 1.0        0.612907   -0.24869        -0.917755  -0.24869      0.612907\n",
       " 1.0        0.951057    0.809017        0.587785   0.809017     0.951057\n",
       " 1.0        0.960294    0.844328    …   0.661312   0.844328     0.960294\n",
       " 1.0        0.637424   -0.187381       -0.876307  -0.187381     0.637424\n",
       " 1.0        0.0941083  -0.982287       -0.278991  -0.982287     0.0941083\n",
       " ⋮                                  ⋱                          \n",
       " 0.999972  -0.920713    0.690006       -0.331647   0.679041    -0.914739\n",
       " 0.999972  -0.980847    0.926976       -0.848348   0.932528    -0.983674\n",
       " 0.999971  -0.701743   -0.00755746      0.701735   0.00756881  -0.712438\n",
       " 0.999971  -0.179932   -0.93254     …   0.54222   -0.926956    -0.194831\n",
       " 0.999971   0.404111   -0.678987       -0.938275  -0.690075     0.390151\n",
       " 0.999971   0.848387    0.432662       -0.132902   0.418861     0.840214\n",
       " 0.999971   0.999237    0.997518        0.996253   0.998478     0.999718\n",
       " 0.999971   0.804489    0.30172        -0.301709   0.316307     0.813504\n",
       " 0.99997    0.331498   -0.775389    …  -0.864634  -0.765585     0.345969\n",
       " 0.99997   -0.256146   -0.872568        0.678901  -0.879998    -0.241208\n",
       " 0.99997   -0.755199    0.132996        0.568467   0.117652    -0.744971\n",
       " 0.99997   -0.993056    0.970481       -0.926892   0.966624    -0.991112"
      ]
     },
     "execution_count": 26,
     "metadata": {},
     "output_type": "execute_result"
    }
   ],
   "source": [
    "m = 784\n",
    "N = 2000\n",
    "A_cos = cosine_basis(m, N, 10, 200)"
   ]
  },
  {
   "cell_type": "code",
   "execution_count": 55,
   "metadata": {},
   "outputs": [
    {
     "data": {
      "image/png": "[encoded data removed]",
      "text/plain": [
       "28×28 Array{Gray{Float64},2} with eltype Gray{Float64}:\n",
       " Gray{Float64}(-0.204481)   …  Gray{Float64}(0.207984)\n",
       " Gray{Float64}(0.094532)       Gray{Float64}(0.175037)\n",
       " Gray{Float64}(0.0715222)      Gray{Float64}(-0.0261879)\n",
       " Gray{Float64}(-0.11339)       Gray{Float64}(-0.0538574)\n",
       " Gray{Float64}(-0.050034)      Gray{Float64}(0.0766722)\n",
       " Gray{Float64}(-0.0698874)  …  Gray{Float64}(0.0530858)\n",
       " Gray{Float64}(-0.129318)      Gray{Float64}(-0.159871)\n",
       " Gray{Float64}(-0.0308345)     Gray{Float64}(-0.103032)\n",
       " Gray{Float64}(0.00624703)     Gray{Float64}(0.0177638)\n",
       " Gray{Float64}(0.0434695)      Gray{Float64}(0.0884543)\n",
       " Gray{Float64}(-0.0189387)  …  Gray{Float64}(-0.112925)\n",
       " Gray{Float64}(0.19472)        Gray{Float64}(-0.204278)\n",
       " Gray{Float64}(-0.154016)      Gray{Float64}(0.0498529)\n",
       " ⋮                          ⋱  \n",
       " Gray{Float64}(0.0991934)      Gray{Float64}(-0.120795)\n",
       " Gray{Float64}(-0.222508)      Gray{Float64}(0.0397331)\n",
       " Gray{Float64}(0.0734993)      Gray{Float64}(-0.00526173)\n",
       " Gray{Float64}(0.325182)       Gray{Float64}(-0.158095)\n",
       " Gray{Float64}(0.0938802)   …  Gray{Float64}(0.196339)\n",
       " Gray{Float64}(-0.163989)      Gray{Float64}(-0.0177152)\n",
       " Gray{Float64}(0.00392095)     Gray{Float64}(0.059311)\n",
       " Gray{Float64}(-0.0195958)     Gray{Float64}(-0.105542)\n",
       " Gray{Float64}(0.351189)       Gray{Float64}(0.123595)\n",
       " Gray{Float64}(0.0956552)   …  Gray{Float64}(0.169845)\n",
       " Gray{Float64}(-0.0912417)     Gray{Float64}(0.108743)\n",
       " Gray{Float64}(-0.0280192)     Gray{Float64}(-0.281346)"
      ]
     },
     "execution_count": 55,
     "metadata": {},
     "output_type": "execute_result"
    }
   ],
   "source": [
    "# visualize results on one piece of data with s=150\n",
    "_, recons_cos, _ = compression_reconstruction(dig, A_cos, 150)\n",
    "reshaped_cos = reshape_(recons_digit)\n",
    "Gray.(reshaped_cos/255)"
   ]
  },
  {
   "cell_type": "code",
   "execution_count": 28,
   "metadata": {},
   "outputs": [
    {
     "name": "stdout",
     "output_type": "stream",
     "text": [
      "s=10\n",
      "error=36.60317076270604\n",
      "s=20\n",
      "error=38.89705607179305\n",
      "s=30\n",
      "error=39.877893285194\n",
      "s=40\n",
      "error=39.91329603806385\n",
      "s=50\n",
      "error=39.59039505048603\n",
      "s=60\n",
      "error=39.1579336012233\n",
      "s=70\n",
      "error=39.166046526041924\n",
      "s=80\n",
      "error=38.40735055130442\n",
      "s=90\n",
      "error=37.91117895220428\n",
      "s=100\n",
      "error=37.067915103978414\n",
      "s=110\n",
      "error=36.58823425598027\n",
      "s=120\n",
      "error=36.077311281905736\n",
      "s=130\n",
      "error=35.20840174393788\n",
      "s=140\n",
      "error=34.58385336571114\n",
      "s=150\n",
      "error=33.80852677008009\n",
      "s=160\n",
      "error=32.883198981267014\n",
      "s=170\n",
      "error=32.0769474724012\n",
      "s=180\n",
      "error=31.037742066068468\n",
      "s=190\n",
      "error=30.200837185773448\n"
     ]
    },
    {
     "data": {
      "image/svg+xml": [
       "<?xml version=\"1.0\" encoding=\"utf-8\"?>\n",
       "<svg xmlns=\"http://www.w3.org/2000/svg\" xmlns:xlink=\"http://www.w3.org/1999/xlink\" width=\"600\" height=\"400\" viewBox=\"0 0 2400 1600\">\n",
       "<defs>\n",
       "  <clipPath id=\"clip670\">\n",
       "    <rect x=\"0\" y=\"0\" width=\"2400\" height=\"1600\"/>\n",
       "  </clipPath>\n",
       "</defs>\n",
       "<path clip-path=\"url(#clip670)\" d=\"\n",
       "M0 1600 L2400 1600 L2400 0 L0 0  Z\n",
       "  \" fill=\"#ffffff\" fill-rule=\"evenodd\" fill-opacity=\"1\"/>\n",
       "<defs>\n",
       "  <clipPath id=\"clip671\">\n",
       "    <rect x=\"480\" y=\"0\" width=\"1681\" height=\"1600\"/>\n",
       "  </clipPath>\n",
       "</defs>\n",
       "<path clip-path=\"url(#clip670)\" d=\"\n",
       "M176.158 1486.45 L2352.76 1486.45 L2352.76 47.2441 L176.158 47.2441  Z\n",
       "  \" fill=\"#ffffff\" fill-rule=\"evenodd\" fill-opacity=\"1\"/>\n",
       "<defs>\n",
       "  <clipPath id=\"clip672\">\n",
       "    <rect x=\"176\" y=\"47\" width=\"2178\" height=\"1440\"/>\n",
       "  </clipPath>\n",
       "</defs>\n",
       "<polyline clip-path=\"url(#clip672)\" style=\"stroke:#000000; stroke-width:2; stroke-opacity:0.1; fill:none\" points=\"\n",
       "  408.876,1486.45 408.876,47.2441 \n",
       "  \"/>\n",
       "<polyline clip-path=\"url(#clip672)\" style=\"stroke:#000000; stroke-width:2; stroke-opacity:0.1; fill:none\" points=\"\n",
       "  694.07,1486.45 694.07,47.2441 \n",
       "  \"/>\n",
       "<polyline clip-path=\"url(#clip672)\" style=\"stroke:#000000; stroke-width:2; stroke-opacity:0.1; fill:none\" points=\"\n",
       "  979.264,1486.45 979.264,47.2441 \n",
       "  \"/>\n",
       "<polyline clip-path=\"url(#clip672)\" style=\"stroke:#000000; stroke-width:2; stroke-opacity:0.1; fill:none\" points=\"\n",
       "  1264.46,1486.45 1264.46,47.2441 \n",
       "  \"/>\n",
       "<polyline clip-path=\"url(#clip672)\" style=\"stroke:#000000; stroke-width:2; stroke-opacity:0.1; fill:none\" points=\"\n",
       "  1549.65,1486.45 1549.65,47.2441 \n",
       "  \"/>\n",
       "<polyline clip-path=\"url(#clip672)\" style=\"stroke:#000000; stroke-width:2; stroke-opacity:0.1; fill:none\" points=\"\n",
       "  1834.84,1486.45 1834.84,47.2441 \n",
       "  \"/>\n",
       "<polyline clip-path=\"url(#clip672)\" style=\"stroke:#000000; stroke-width:2; stroke-opacity:0.1; fill:none\" points=\"\n",
       "  2120.04,1486.45 2120.04,47.2441 \n",
       "  \"/>\n",
       "<polyline clip-path=\"url(#clip670)\" style=\"stroke:#000000; stroke-width:4; stroke-opacity:1; fill:none\" points=\"\n",
       "  176.158,1486.45 2352.76,1486.45 \n",
       "  \"/>\n",
       "<polyline clip-path=\"url(#clip670)\" style=\"stroke:#000000; stroke-width:4; stroke-opacity:1; fill:none\" points=\"\n",
       "  408.876,1486.45 408.876,1469.18 \n",
       "  \"/>\n",
       "<polyline clip-path=\"url(#clip670)\" style=\"stroke:#000000; stroke-width:4; stroke-opacity:1; fill:none\" points=\"\n",
       "  694.07,1486.45 694.07,1469.18 \n",
       "  \"/>\n",
       "<polyline clip-path=\"url(#clip670)\" style=\"stroke:#000000; stroke-width:4; stroke-opacity:1; fill:none\" points=\"\n",
       "  979.264,1486.45 979.264,1469.18 \n",
       "  \"/>\n",
       "<polyline clip-path=\"url(#clip670)\" style=\"stroke:#000000; stroke-width:4; stroke-opacity:1; fill:none\" points=\"\n",
       "  1264.46,1486.45 1264.46,1469.18 \n",
       "  \"/>\n",
       "<polyline clip-path=\"url(#clip670)\" style=\"stroke:#000000; stroke-width:4; stroke-opacity:1; fill:none\" points=\"\n",
       "  1549.65,1486.45 1549.65,1469.18 \n",
       "  \"/>\n",
       "<polyline clip-path=\"url(#clip670)\" style=\"stroke:#000000; stroke-width:4; stroke-opacity:1; fill:none\" points=\"\n",
       "  1834.84,1486.45 1834.84,1469.18 \n",
       "  \"/>\n",
       "<polyline clip-path=\"url(#clip670)\" style=\"stroke:#000000; stroke-width:4; stroke-opacity:1; fill:none\" points=\"\n",
       "  2120.04,1486.45 2120.04,1469.18 \n",
       "  \"/>\n",
       "<path clip-path=\"url(#clip670)\" d=\"M 0 0 M390.52 1543.18 L406.839 1543.18 L406.839 1547.12 L384.895 1547.12 L384.895 1543.18 Q387.557 1540.43 392.14 1535.8 Q396.747 1531.15 397.927 1529.81 Q400.173 1527.28 401.052 1525.55 Q401.955 1523.79 401.955 1522.1 Q401.955 1519.34 400.011 1517.61 Q398.089 1515.87 394.987 1515.87 Q392.788 1515.87 390.335 1516.63 Q387.904 1517.4 385.126 1518.95 L385.126 1514.23 Q387.95 1513.09 390.404 1512.51 Q392.858 1511.93 394.895 1511.93 Q400.265 1511.93 403.46 1514.62 Q406.654 1517.31 406.654 1521.8 Q406.654 1523.93 405.844 1525.85 Q405.057 1527.74 402.95 1530.34 Q402.372 1531.01 399.27 1534.23 Q396.168 1537.42 390.52 1543.18 Z\" fill=\"#000000\" fill-rule=\"evenodd\" fill-opacity=\"1\" /><path clip-path=\"url(#clip670)\" d=\"M 0 0 M411.955 1512.56 L430.311 1512.56 L430.311 1516.5 L416.237 1516.5 L416.237 1524.97 Q417.256 1524.62 418.274 1524.46 Q419.293 1524.27 420.311 1524.27 Q426.098 1524.27 429.478 1527.44 Q432.858 1530.62 432.858 1536.03 Q432.858 1541.61 429.385 1544.71 Q425.913 1547.79 419.594 1547.79 Q417.418 1547.79 415.149 1547.42 Q412.904 1547.05 410.497 1546.31 L410.497 1541.61 Q412.58 1542.74 414.802 1543.3 Q417.024 1543.86 419.501 1543.86 Q423.506 1543.86 425.844 1541.75 Q428.182 1539.64 428.182 1536.03 Q428.182 1532.42 425.844 1530.31 Q423.506 1528.21 419.501 1528.21 Q417.626 1528.21 415.751 1528.62 Q413.899 1529.04 411.955 1529.92 L411.955 1512.56 Z\" fill=\"#000000\" fill-rule=\"evenodd\" fill-opacity=\"1\" /><path clip-path=\"url(#clip670)\" d=\"M 0 0 M670.841 1512.56 L689.197 1512.56 L689.197 1516.5 L675.123 1516.5 L675.123 1524.97 Q676.142 1524.62 677.16 1524.46 Q678.179 1524.27 679.197 1524.27 Q684.984 1524.27 688.364 1527.44 Q691.744 1530.62 691.744 1536.03 Q691.744 1541.61 688.271 1544.71 Q684.799 1547.79 678.48 1547.79 Q676.304 1547.79 674.035 1547.42 Q671.79 1547.05 669.383 1546.31 L669.383 1541.61 Q671.466 1542.74 673.688 1543.3 Q675.91 1543.86 678.387 1543.86 Q682.392 1543.86 684.73 1541.75 Q687.068 1539.64 687.068 1536.03 Q687.068 1532.42 684.73 1530.31 Q682.392 1528.21 678.387 1528.21 Q676.512 1528.21 674.637 1528.62 Q672.785 1529.04 670.841 1529.92 L670.841 1512.56 Z\" fill=\"#000000\" fill-rule=\"evenodd\" fill-opacity=\"1\" /><path clip-path=\"url(#clip670)\" d=\"M 0 0 M706.813 1515.64 Q703.202 1515.64 701.373 1519.2 Q699.568 1522.75 699.568 1529.87 Q699.568 1536.98 701.373 1540.55 Q703.202 1544.09 706.813 1544.09 Q710.447 1544.09 712.253 1540.55 Q714.081 1536.98 714.081 1529.87 Q714.081 1522.75 712.253 1519.2 Q710.447 1515.64 706.813 1515.64 M706.813 1511.93 Q712.623 1511.93 715.679 1516.54 Q718.757 1521.12 718.757 1529.87 Q718.757 1538.6 715.679 1543.21 Q712.623 1547.79 706.813 1547.79 Q701.003 1547.79 697.924 1543.21 Q694.869 1538.6 694.869 1529.87 Q694.869 1521.12 697.924 1516.54 Q701.003 1511.93 706.813 1511.93 Z\" fill=\"#000000\" fill-rule=\"evenodd\" fill-opacity=\"1\" /><path clip-path=\"url(#clip670)\" d=\"M 0 0 M955.143 1512.56 L977.365 1512.56 L977.365 1514.55 L964.819 1547.12 L959.935 1547.12 L971.74 1516.5 L955.143 1516.5 L955.143 1512.56 Z\" fill=\"#000000\" fill-rule=\"evenodd\" fill-opacity=\"1\" /><path clip-path=\"url(#clip670)\" d=\"M 0 0 M982.481 1512.56 L1000.84 1512.56 L1000.84 1516.5 L986.763 1516.5 L986.763 1524.97 Q987.782 1524.62 988.8 1524.46 Q989.819 1524.27 990.838 1524.27 Q996.625 1524.27 1000 1527.44 Q1003.38 1530.62 1003.38 1536.03 Q1003.38 1541.61 999.912 1544.71 Q996.439 1547.79 990.12 1547.79 Q987.944 1547.79 985.676 1547.42 Q983.43 1547.05 981.023 1546.31 L981.023 1541.61 Q983.106 1542.74 985.328 1543.3 Q987.55 1543.86 990.027 1543.86 Q994.032 1543.86 996.37 1541.75 Q998.708 1539.64 998.708 1536.03 Q998.708 1532.42 996.37 1530.31 Q994.032 1528.21 990.027 1528.21 Q988.152 1528.21 986.277 1528.62 Q984.426 1529.04 982.481 1529.92 L982.481 1512.56 Z\" fill=\"#000000\" fill-rule=\"evenodd\" fill-opacity=\"1\" /><path clip-path=\"url(#clip670)\" d=\"M 0 0 M1227.83 1543.18 L1235.46 1543.18 L1235.46 1516.82 L1227.15 1518.49 L1227.15 1514.23 L1235.42 1512.56 L1240.09 1512.56 L1240.09 1543.18 L1247.73 1543.18 L1247.73 1547.12 L1227.83 1547.12 L1227.83 1543.18 Z\" fill=\"#000000\" fill-rule=\"evenodd\" fill-opacity=\"1\" /><path clip-path=\"url(#clip670)\" d=\"M 0 0 M1262.8 1515.64 Q1259.19 1515.64 1257.36 1519.2 Q1255.56 1522.75 1255.56 1529.87 Q1255.56 1536.98 1257.36 1540.55 Q1259.19 1544.09 1262.8 1544.09 Q1266.44 1544.09 1268.24 1540.55 Q1270.07 1536.98 1270.07 1529.87 Q1270.07 1522.75 1268.24 1519.2 Q1266.44 1515.64 1262.8 1515.64 M1262.8 1511.93 Q1268.61 1511.93 1271.67 1516.54 Q1274.75 1521.12 1274.75 1529.87 Q1274.75 1538.6 1271.67 1543.21 Q1268.61 1547.79 1262.8 1547.79 Q1256.99 1547.79 1253.91 1543.21 Q1250.86 1538.6 1250.86 1529.87 Q1250.86 1521.12 1253.91 1516.54 Q1256.99 1511.93 1262.8 1511.93 Z\" fill=\"#000000\" fill-rule=\"evenodd\" fill-opacity=\"1\" /><path clip-path=\"url(#clip670)\" d=\"M 0 0 M1289.82 1515.64 Q1286.2 1515.64 1284.38 1519.2 Q1282.57 1522.75 1282.57 1529.87 Q1282.57 1536.98 1284.38 1540.55 Q1286.2 1544.09 1289.82 1544.09 Q1293.45 1544.09 1295.26 1540.55 Q1297.08 1536.98 1297.08 1529.87 Q1297.08 1522.75 1295.26 1519.2 Q1293.45 1515.64 1289.82 1515.64 M1289.82 1511.93 Q1295.63 1511.93 1298.68 1516.54 Q1301.76 1521.12 1301.76 1529.87 Q1301.76 1538.6 1298.68 1543.21 Q1295.63 1547.79 1289.82 1547.79 Q1284.01 1547.79 1280.93 1543.21 Q1277.87 1538.6 1277.87 1529.87 Q1277.87 1521.12 1280.93 1516.54 Q1284.01 1511.93 1289.82 1511.93 Z\" fill=\"#000000\" fill-rule=\"evenodd\" fill-opacity=\"1\" /><path clip-path=\"url(#clip670)\" d=\"M 0 0 M1514.32 1543.18 L1521.95 1543.18 L1521.95 1516.82 L1513.64 1518.49 L1513.64 1514.23 L1521.91 1512.56 L1526.58 1512.56 L1526.58 1543.18 L1534.22 1543.18 L1534.22 1547.12 L1514.32 1547.12 L1514.32 1543.18 Z\" fill=\"#000000\" fill-rule=\"evenodd\" fill-opacity=\"1\" /><path clip-path=\"url(#clip670)\" d=\"M 0 0 M1543.32 1543.18 L1559.64 1543.18 L1559.64 1547.12 L1537.69 1547.12 L1537.69 1543.18 Q1540.36 1540.43 1544.94 1535.8 Q1549.55 1531.15 1550.73 1529.81 Q1552.97 1527.28 1553.85 1525.55 Q1554.75 1523.79 1554.75 1522.1 Q1554.75 1519.34 1552.81 1517.61 Q1550.89 1515.87 1547.79 1515.87 Q1545.59 1515.87 1543.13 1516.63 Q1540.7 1517.4 1537.93 1518.95 L1537.93 1514.23 Q1540.75 1513.09 1543.2 1512.51 Q1545.66 1511.93 1547.69 1511.93 Q1553.07 1511.93 1556.26 1514.62 Q1559.45 1517.31 1559.45 1521.8 Q1559.45 1523.93 1558.64 1525.85 Q1557.86 1527.74 1555.75 1530.34 Q1555.17 1531.01 1552.07 1534.23 Q1548.97 1537.42 1543.32 1543.18 Z\" fill=\"#000000\" fill-rule=\"evenodd\" fill-opacity=\"1\" /><path clip-path=\"url(#clip670)\" d=\"M 0 0 M1564.75 1512.56 L1583.11 1512.56 L1583.11 1516.5 L1569.04 1516.5 L1569.04 1524.97 Q1570.06 1524.62 1571.07 1524.46 Q1572.09 1524.27 1573.11 1524.27 Q1578.9 1524.27 1582.28 1527.44 Q1585.66 1530.62 1585.66 1536.03 Q1585.66 1541.61 1582.19 1544.71 Q1578.71 1547.79 1572.39 1547.79 Q1570.22 1547.79 1567.95 1547.42 Q1565.7 1547.05 1563.3 1546.31 L1563.3 1541.61 Q1565.38 1542.74 1567.6 1543.3 Q1569.82 1543.86 1572.3 1543.86 Q1576.31 1543.86 1578.64 1541.75 Q1580.98 1539.64 1580.98 1536.03 Q1580.98 1532.42 1578.64 1530.31 Q1576.31 1528.21 1572.3 1528.21 Q1570.43 1528.21 1568.55 1528.62 Q1566.7 1529.04 1564.75 1529.92 L1564.75 1512.56 Z\" fill=\"#000000\" fill-rule=\"evenodd\" fill-opacity=\"1\" /><path clip-path=\"url(#clip670)\" d=\"M 0 0 M1798.71 1543.18 L1806.35 1543.18 L1806.35 1516.82 L1798.04 1518.49 L1798.04 1514.23 L1806.3 1512.56 L1810.98 1512.56 L1810.98 1543.18 L1818.62 1543.18 L1818.62 1547.12 L1798.71 1547.12 L1798.71 1543.18 Z\" fill=\"#000000\" fill-rule=\"evenodd\" fill-opacity=\"1\" /><path clip-path=\"url(#clip670)\" d=\"M 0 0 M1823.73 1512.56 L1842.09 1512.56 L1842.09 1516.5 L1828.02 1516.5 L1828.02 1524.97 Q1829.03 1524.62 1830.05 1524.46 Q1831.07 1524.27 1832.09 1524.27 Q1837.88 1524.27 1841.26 1527.44 Q1844.64 1530.62 1844.64 1536.03 Q1844.64 1541.61 1841.16 1544.71 Q1837.69 1547.79 1831.37 1547.79 Q1829.2 1547.79 1826.93 1547.42 Q1824.68 1547.05 1822.27 1546.31 L1822.27 1541.61 Q1824.36 1542.74 1826.58 1543.3 Q1828.8 1543.86 1831.28 1543.86 Q1835.28 1543.86 1837.62 1541.75 Q1839.96 1539.64 1839.96 1536.03 Q1839.96 1532.42 1837.62 1530.31 Q1835.28 1528.21 1831.28 1528.21 Q1829.4 1528.21 1827.53 1528.62 Q1825.68 1529.04 1823.73 1529.92 L1823.73 1512.56 Z\" fill=\"#000000\" fill-rule=\"evenodd\" fill-opacity=\"1\" /><path clip-path=\"url(#clip670)\" d=\"M 0 0 M1859.71 1515.64 Q1856.09 1515.64 1854.27 1519.2 Q1852.46 1522.75 1852.46 1529.87 Q1852.46 1536.98 1854.27 1540.55 Q1856.09 1544.09 1859.71 1544.09 Q1863.34 1544.09 1865.15 1540.55 Q1866.97 1536.98 1866.97 1529.87 Q1866.97 1522.75 1865.15 1519.2 Q1863.34 1515.64 1859.71 1515.64 M1859.71 1511.93 Q1865.52 1511.93 1868.57 1516.54 Q1871.65 1521.12 1871.65 1529.87 Q1871.65 1538.6 1868.57 1543.21 Q1865.52 1547.79 1859.71 1547.79 Q1853.9 1547.79 1850.82 1543.21 Q1847.76 1538.6 1847.76 1529.87 Q1847.76 1521.12 1850.82 1516.54 Q1853.9 1511.93 1859.71 1511.93 Z\" fill=\"#000000\" fill-rule=\"evenodd\" fill-opacity=\"1\" /><path clip-path=\"url(#clip670)\" d=\"M 0 0 M2084.36 1543.18 L2091.99 1543.18 L2091.99 1516.82 L2083.68 1518.49 L2083.68 1514.23 L2091.95 1512.56 L2096.62 1512.56 L2096.62 1543.18 L2104.26 1543.18 L2104.26 1547.12 L2084.36 1547.12 L2084.36 1543.18 Z\" fill=\"#000000\" fill-rule=\"evenodd\" fill-opacity=\"1\" /><path clip-path=\"url(#clip670)\" d=\"M 0 0 M2108.15 1512.56 L2130.37 1512.56 L2130.37 1514.55 L2117.83 1547.12 L2112.94 1547.12 L2124.75 1516.5 L2108.15 1516.5 L2108.15 1512.56 Z\" fill=\"#000000\" fill-rule=\"evenodd\" fill-opacity=\"1\" /><path clip-path=\"url(#clip670)\" d=\"M 0 0 M2135.49 1512.56 L2153.85 1512.56 L2153.85 1516.5 L2139.77 1516.5 L2139.77 1524.97 Q2140.79 1524.62 2141.81 1524.46 Q2142.83 1524.27 2143.85 1524.27 Q2149.63 1524.27 2153.01 1527.44 Q2156.39 1530.62 2156.39 1536.03 Q2156.39 1541.61 2152.92 1544.71 Q2149.45 1547.79 2143.13 1547.79 Q2140.95 1547.79 2138.68 1547.42 Q2136.44 1547.05 2134.03 1546.31 L2134.03 1541.61 Q2136.11 1542.74 2138.34 1543.3 Q2140.56 1543.86 2143.04 1543.86 Q2147.04 1543.86 2149.38 1541.75 Q2151.72 1539.64 2151.72 1536.03 Q2151.72 1532.42 2149.38 1530.31 Q2147.04 1528.21 2143.04 1528.21 Q2141.16 1528.21 2139.29 1528.62 Q2137.43 1529.04 2135.49 1529.92 L2135.49 1512.56 Z\" fill=\"#000000\" fill-rule=\"evenodd\" fill-opacity=\"1\" /><polyline clip-path=\"url(#clip672)\" style=\"stroke:#000000; stroke-width:2; stroke-opacity:0.1; fill:none\" points=\"\n",
       "  176.158,1473.79 2352.76,1473.79 \n",
       "  \"/>\n",
       "<polyline clip-path=\"url(#clip672)\" style=\"stroke:#000000; stroke-width:2; stroke-opacity:0.1; fill:none\" points=\"\n",
       "  176.158,1124.31 2352.76,1124.31 \n",
       "  \"/>\n",
       "<polyline clip-path=\"url(#clip672)\" style=\"stroke:#000000; stroke-width:2; stroke-opacity:0.1; fill:none\" points=\"\n",
       "  176.158,774.824 2352.76,774.824 \n",
       "  \"/>\n",
       "<polyline clip-path=\"url(#clip672)\" style=\"stroke:#000000; stroke-width:2; stroke-opacity:0.1; fill:none\" points=\"\n",
       "  176.158,425.34 2352.76,425.34 \n",
       "  \"/>\n",
       "<polyline clip-path=\"url(#clip672)\" style=\"stroke:#000000; stroke-width:2; stroke-opacity:0.1; fill:none\" points=\"\n",
       "  176.158,75.8556 2352.76,75.8556 \n",
       "  \"/>\n",
       "<polyline clip-path=\"url(#clip670)\" style=\"stroke:#000000; stroke-width:4; stroke-opacity:1; fill:none\" points=\"\n",
       "  176.158,1486.45 176.158,47.2441 \n",
       "  \"/>\n",
       "<polyline clip-path=\"url(#clip670)\" style=\"stroke:#000000; stroke-width:4; stroke-opacity:1; fill:none\" points=\"\n",
       "  176.158,1473.79 202.277,1473.79 \n",
       "  \"/>\n",
       "<polyline clip-path=\"url(#clip670)\" style=\"stroke:#000000; stroke-width:4; stroke-opacity:1; fill:none\" points=\"\n",
       "  176.158,1124.31 202.277,1124.31 \n",
       "  \"/>\n",
       "<polyline clip-path=\"url(#clip670)\" style=\"stroke:#000000; stroke-width:4; stroke-opacity:1; fill:none\" points=\"\n",
       "  176.158,774.824 202.277,774.824 \n",
       "  \"/>\n",
       "<polyline clip-path=\"url(#clip670)\" style=\"stroke:#000000; stroke-width:4; stroke-opacity:1; fill:none\" points=\"\n",
       "  176.158,425.34 202.277,425.34 \n",
       "  \"/>\n",
       "<polyline clip-path=\"url(#clip670)\" style=\"stroke:#000000; stroke-width:4; stroke-opacity:1; fill:none\" points=\"\n",
       "  176.158,75.8556 202.277,75.8556 \n",
       "  \"/>\n",
       "<path clip-path=\"url(#clip670)\" d=\"M 0 0 M69.0476 1472.44 Q72.404 1473.15 74.279 1475.42 Q76.1772 1477.69 76.1772 1481.03 Q76.1772 1486.14 72.6587 1488.94 Q69.1402 1491.74 62.6587 1491.74 Q60.4828 1491.74 58.168 1491.3 Q55.8764 1490.89 53.4227 1490.03 L53.4227 1485.52 Q55.3671 1486.65 57.6819 1487.23 Q59.9967 1487.81 62.5198 1487.81 Q66.918 1487.81 69.2096 1486.07 Q71.5244 1484.34 71.5244 1481.03 Q71.5244 1477.97 69.3717 1476.26 Q67.242 1474.52 63.4226 1474.52 L59.3949 1474.52 L59.3949 1470.68 L63.6078 1470.68 Q67.0569 1470.68 68.8855 1469.31 Q70.7142 1467.92 70.7142 1465.33 Q70.7142 1462.67 68.8161 1461.26 Q66.9411 1459.82 63.4226 1459.82 Q61.5013 1459.82 59.3023 1460.24 Q57.1032 1460.65 54.4643 1461.53 L54.4643 1457.37 Q57.1264 1456.63 59.4412 1456.26 Q61.7791 1455.89 63.8393 1455.89 Q69.1633 1455.89 72.2652 1458.32 Q75.367 1460.72 75.367 1464.84 Q75.367 1467.72 73.7235 1469.71 Q72.08 1471.67 69.0476 1472.44 Z\" fill=\"#000000\" fill-rule=\"evenodd\" fill-opacity=\"1\" /><path clip-path=\"url(#clip670)\" d=\"M 0 0 M91.2465 1459.59 Q87.6354 1459.59 85.8068 1463.15 Q84.0012 1466.7 84.0012 1473.83 Q84.0012 1480.93 85.8068 1484.5 Q87.6354 1488.04 91.2465 1488.04 Q94.8808 1488.04 96.6863 1484.5 Q98.515 1480.93 98.515 1473.83 Q98.515 1466.7 96.6863 1463.15 Q94.8808 1459.59 91.2465 1459.59 M91.2465 1455.89 Q97.0567 1455.89 100.112 1460.49 Q103.191 1465.08 103.191 1473.83 Q103.191 1482.55 100.112 1487.16 Q97.0567 1491.74 91.2465 1491.74 Q85.4364 1491.74 82.3577 1487.16 Q79.3022 1482.55 79.3022 1473.83 Q79.3022 1465.08 82.3577 1460.49 Q85.4364 1455.89 91.2465 1455.89 Z\" fill=\"#000000\" fill-rule=\"evenodd\" fill-opacity=\"1\" /><path clip-path=\"url(#clip670)\" d=\"M 0 0 M108.26 1485.19 L113.145 1485.19 L113.145 1491.07 L108.26 1491.07 L108.26 1485.19 Z\" fill=\"#000000\" fill-rule=\"evenodd\" fill-opacity=\"1\" /><path clip-path=\"url(#clip670)\" d=\"M 0 0 M128.214 1459.59 Q124.603 1459.59 122.774 1463.15 Q120.969 1466.7 120.969 1473.83 Q120.969 1480.93 122.774 1484.5 Q124.603 1488.04 128.214 1488.04 Q131.848 1488.04 133.654 1484.5 Q135.482 1480.93 135.482 1473.83 Q135.482 1466.7 133.654 1463.15 Q131.848 1459.59 128.214 1459.59 M128.214 1455.89 Q134.024 1455.89 137.08 1460.49 Q140.158 1465.08 140.158 1473.83 Q140.158 1482.55 137.08 1487.16 Q134.024 1491.74 128.214 1491.74 Q122.404 1491.74 119.325 1487.16 Q116.27 1482.55 116.27 1473.83 Q116.27 1465.08 119.325 1460.49 Q122.404 1455.89 128.214 1455.89 Z\" fill=\"#000000\" fill-rule=\"evenodd\" fill-opacity=\"1\" /><path clip-path=\"url(#clip670)\" d=\"M 0 0 M71.6402 1122.95 Q74.9966 1123.67 76.8716 1125.94 Q78.7698 1128.21 78.7698 1131.54 Q78.7698 1136.66 75.2513 1139.46 Q71.7328 1142.26 65.2513 1142.26 Q63.0754 1142.26 60.7606 1141.82 Q58.4689 1141.4 56.0152 1140.55 L56.0152 1136.03 Q57.9597 1137.17 60.2745 1137.74 Q62.5893 1138.32 65.1124 1138.32 Q69.5105 1138.32 71.8022 1136.59 Q74.117 1134.85 74.117 1131.54 Q74.117 1128.49 71.9642 1126.77 Q69.8346 1125.04 66.0152 1125.04 L61.9874 1125.04 L61.9874 1121.19 L66.2004 1121.19 Q69.6494 1121.19 71.4781 1119.83 Q73.3068 1118.44 73.3068 1115.85 Q73.3068 1113.18 71.4087 1111.77 Q69.5337 1110.34 66.0152 1110.34 Q64.0939 1110.34 61.8948 1110.75 Q59.6958 1111.17 57.0569 1112.05 L57.0569 1107.88 Q59.7189 1107.14 62.0337 1106.77 Q64.3717 1106.4 66.4319 1106.4 Q71.7559 1106.4 74.8577 1108.83 Q77.9596 1111.24 77.9596 1115.36 Q77.9596 1118.23 76.3161 1120.22 Q74.6726 1122.19 71.6402 1122.95 Z\" fill=\"#000000\" fill-rule=\"evenodd\" fill-opacity=\"1\" /><path clip-path=\"url(#clip670)\" d=\"M 0 0 M87.8669 1137.65 L104.186 1137.65 L104.186 1141.59 L82.242 1141.59 L82.242 1137.65 Q84.904 1134.9 89.4873 1130.27 Q94.0937 1125.62 95.2743 1124.27 Q97.5197 1121.75 98.3993 1120.01 Q99.3021 1118.25 99.3021 1116.56 Q99.3021 1113.81 97.3576 1112.07 Q95.4363 1110.34 92.3345 1110.34 Q90.1354 1110.34 87.6817 1111.1 Q85.2512 1111.87 82.4734 1113.42 L82.4734 1108.69 Q85.2975 1107.56 87.7512 1106.98 Q90.2049 1106.4 92.2419 1106.4 Q97.6122 1106.4 100.807 1109.09 Q104.001 1111.77 104.001 1116.26 Q104.001 1118.39 103.191 1120.31 Q102.404 1122.21 100.297 1124.81 Q99.7187 1125.48 96.6169 1128.69 Q93.515 1131.89 87.8669 1137.65 Z\" fill=\"#000000\" fill-rule=\"evenodd\" fill-opacity=\"1\" /><path clip-path=\"url(#clip670)\" d=\"M 0 0 M109.256 1135.71 L114.14 1135.71 L114.14 1141.59 L109.256 1141.59 L109.256 1135.71 Z\" fill=\"#000000\" fill-rule=\"evenodd\" fill-opacity=\"1\" /><path clip-path=\"url(#clip670)\" d=\"M 0 0 M119.256 1107.03 L137.612 1107.03 L137.612 1110.96 L123.538 1110.96 L123.538 1119.43 Q124.557 1119.09 125.575 1118.93 Q126.594 1118.74 127.612 1118.74 Q133.399 1118.74 136.779 1121.91 Q140.158 1125.08 140.158 1130.5 Q140.158 1136.08 136.686 1139.18 Q133.214 1142.26 126.894 1142.26 Q124.719 1142.26 122.45 1141.89 Q120.205 1141.52 117.797 1140.78 L117.797 1136.08 Q119.881 1137.21 122.103 1137.77 Q124.325 1138.32 126.802 1138.32 Q130.807 1138.32 133.144 1136.22 Q135.482 1134.11 135.482 1130.5 Q135.482 1126.89 133.144 1124.78 Q130.807 1122.68 126.802 1122.68 Q124.927 1122.68 123.052 1123.09 Q121.2 1123.51 119.256 1124.39 L119.256 1107.03 Z\" fill=\"#000000\" fill-rule=\"evenodd\" fill-opacity=\"1\" /><path clip-path=\"url(#clip670)\" d=\"M 0 0 M70.0429 773.469 Q73.3994 774.187 75.2744 776.455 Q77.1725 778.724 77.1725 782.057 Q77.1725 787.173 73.654 789.974 Q70.1355 792.775 63.6541 792.775 Q61.4782 792.775 59.1634 792.335 Q56.8717 791.918 54.418 791.062 L54.418 786.548 Q56.3625 787.682 58.6773 788.261 Q60.9921 788.84 63.5152 788.84 Q67.9133 788.84 70.205 787.104 Q72.5198 785.367 72.5198 782.057 Q72.5198 779.002 70.367 777.289 Q68.2374 775.553 64.418 775.553 L60.3902 775.553 L60.3902 771.71 L64.6032 771.71 Q68.0522 771.71 69.8809 770.344 Q71.7096 768.956 71.7096 766.363 Q71.7096 763.701 69.8115 762.289 Q67.9365 760.854 64.418 760.854 Q62.4967 760.854 60.2976 761.27 Q58.0986 761.687 55.4597 762.567 L55.4597 758.4 Q58.1217 757.659 60.4365 757.289 Q62.7745 756.919 64.8346 756.919 Q70.1587 756.919 73.2605 759.349 Q76.3624 761.756 76.3624 765.877 Q76.3624 768.747 74.7189 770.738 Q73.0753 772.705 70.0429 773.469 Z\" fill=\"#000000\" fill-rule=\"evenodd\" fill-opacity=\"1\" /><path clip-path=\"url(#clip670)\" d=\"M 0 0 M82.2883 757.544 L100.645 757.544 L100.645 761.479 L86.5706 761.479 L86.5706 769.951 Q87.5892 769.604 88.6077 769.442 Q89.6262 769.256 90.6447 769.256 Q96.4317 769.256 99.8113 772.428 Q103.191 775.599 103.191 781.016 Q103.191 786.594 99.7187 789.696 Q96.2465 792.775 89.9271 792.775 Q87.7512 792.775 85.4827 792.404 Q83.2373 792.034 80.8299 791.293 L80.8299 786.594 Q82.9133 787.729 85.1355 788.284 Q87.3577 788.84 89.8345 788.84 Q93.8391 788.84 96.1771 786.733 Q98.515 784.627 98.515 781.016 Q98.515 777.405 96.1771 775.298 Q93.8391 773.192 89.8345 773.192 Q87.9595 773.192 86.0845 773.608 Q84.2327 774.025 82.2883 774.905 L82.2883 757.544 Z\" fill=\"#000000\" fill-rule=\"evenodd\" fill-opacity=\"1\" /><path clip-path=\"url(#clip670)\" d=\"M 0 0 M108.26 786.224 L113.145 786.224 L113.145 792.104 L108.26 792.104 L108.26 786.224 Z\" fill=\"#000000\" fill-rule=\"evenodd\" fill-opacity=\"1\" /><path clip-path=\"url(#clip670)\" d=\"M 0 0 M128.214 760.622 Q124.603 760.622 122.774 764.187 Q120.969 767.729 120.969 774.858 Q120.969 781.965 122.774 785.529 Q124.603 789.071 128.214 789.071 Q131.848 789.071 133.654 785.529 Q135.482 781.965 135.482 774.858 Q135.482 767.729 133.654 764.187 Q131.848 760.622 128.214 760.622 M128.214 756.919 Q134.024 756.919 137.08 761.525 Q140.158 766.108 140.158 774.858 Q140.158 783.585 137.08 788.192 Q134.024 792.775 128.214 792.775 Q122.404 792.775 119.325 788.192 Q116.27 783.585 116.27 774.858 Q116.27 766.108 119.325 761.525 Q122.404 756.919 128.214 756.919 Z\" fill=\"#000000\" fill-rule=\"evenodd\" fill-opacity=\"1\" /><path clip-path=\"url(#clip670)\" d=\"M 0 0 M70.9457 423.985 Q74.3022 424.703 76.1772 426.972 Q78.0753 429.24 78.0753 432.573 Q78.0753 437.689 74.5568 440.49 Q71.0383 443.291 64.5569 443.291 Q62.381 443.291 60.0662 442.851 Q57.7745 442.434 55.3208 441.578 L55.3208 437.064 Q57.2652 438.198 59.58 438.777 Q61.8948 439.356 64.418 439.356 Q68.8161 439.356 71.1078 437.62 Q73.4226 435.883 73.4226 432.573 Q73.4226 429.518 71.2698 427.805 Q69.1402 426.069 65.3208 426.069 L61.293 426.069 L61.293 422.226 L65.5059 422.226 Q68.955 422.226 70.7837 420.86 Q72.6124 419.472 72.6124 416.879 Q72.6124 414.217 70.7142 412.805 Q68.8393 411.37 65.3208 411.37 Q63.3995 411.37 61.2004 411.786 Q59.0013 412.203 56.3625 413.083 L56.3625 408.916 Q59.0245 408.175 61.3393 407.805 Q63.6772 407.435 65.7374 407.435 Q71.0615 407.435 74.1633 409.865 Q77.2651 412.273 77.2651 416.393 Q77.2651 419.263 75.6216 421.254 Q73.9781 423.222 70.9457 423.985 Z\" fill=\"#000000\" fill-rule=\"evenodd\" fill-opacity=\"1\" /><path clip-path=\"url(#clip670)\" d=\"M 0 0 M81.9642 408.06 L104.186 408.06 L104.186 410.05 L91.6401 442.62 L86.7558 442.62 L98.5613 411.995 L81.9642 411.995 L81.9642 408.06 Z\" fill=\"#000000\" fill-rule=\"evenodd\" fill-opacity=\"1\" /><path clip-path=\"url(#clip670)\" d=\"M 0 0 M109.256 436.74 L114.14 436.74 L114.14 442.62 L109.256 442.62 L109.256 436.74 Z\" fill=\"#000000\" fill-rule=\"evenodd\" fill-opacity=\"1\" /><path clip-path=\"url(#clip670)\" d=\"M 0 0 M119.256 408.06 L137.612 408.06 L137.612 411.995 L123.538 411.995 L123.538 420.467 Q124.557 420.12 125.575 419.958 Q126.594 419.772 127.612 419.772 Q133.399 419.772 136.779 422.944 Q140.158 426.115 140.158 431.532 Q140.158 437.11 136.686 440.212 Q133.214 443.291 126.894 443.291 Q124.719 443.291 122.45 442.92 Q120.205 442.55 117.797 441.809 L117.797 437.11 Q119.881 438.245 122.103 438.8 Q124.325 439.356 126.802 439.356 Q130.807 439.356 133.144 437.249 Q135.482 435.143 135.482 431.532 Q135.482 427.921 133.144 425.814 Q130.807 423.708 126.802 423.708 Q124.927 423.708 123.052 424.124 Q121.2 424.541 119.256 425.421 L119.256 408.06 Z\" fill=\"#000000\" fill-rule=\"evenodd\" fill-opacity=\"1\" /><path clip-path=\"url(#clip670)\" d=\"M 0 0 M66.5939 62.6497 L54.7884 81.0986 L66.5939 81.0986 L66.5939 62.6497 M65.367 58.5756 L71.2466 58.5756 L71.2466 81.0986 L76.1772 81.0986 L76.1772 84.9875 L71.2466 84.9875 L71.2466 93.1356 L66.5939 93.1356 L66.5939 84.9875 L50.9921 84.9875 L50.9921 80.4737 L65.367 58.5756 Z\" fill=\"#000000\" fill-rule=\"evenodd\" fill-opacity=\"1\" /><path clip-path=\"url(#clip670)\" d=\"M 0 0 M91.2465 61.6543 Q87.6354 61.6543 85.8068 65.2191 Q84.0012 68.7608 84.0012 75.8903 Q84.0012 82.9968 85.8068 86.5616 Q87.6354 90.1032 91.2465 90.1032 Q94.8808 90.1032 96.6863 86.5616 Q98.515 82.9968 98.515 75.8903 Q98.515 68.7608 96.6863 65.2191 Q94.8808 61.6543 91.2465 61.6543 M91.2465 57.9506 Q97.0567 57.9506 100.112 62.5571 Q103.191 67.1404 103.191 75.8903 Q103.191 84.6171 100.112 89.2236 Q97.0567 93.8069 91.2465 93.8069 Q85.4364 93.8069 82.3577 89.2236 Q79.3022 84.6171 79.3022 75.8903 Q79.3022 67.1404 82.3577 62.5571 Q85.4364 57.9506 91.2465 57.9506 Z\" fill=\"#000000\" fill-rule=\"evenodd\" fill-opacity=\"1\" /><path clip-path=\"url(#clip670)\" d=\"M 0 0 M108.26 87.256 L113.145 87.256 L113.145 93.1356 L108.26 93.1356 L108.26 87.256 Z\" fill=\"#000000\" fill-rule=\"evenodd\" fill-opacity=\"1\" /><path clip-path=\"url(#clip670)\" d=\"M 0 0 M128.214 61.6543 Q124.603 61.6543 122.774 65.2191 Q120.969 68.7608 120.969 75.8903 Q120.969 82.9968 122.774 86.5616 Q124.603 90.1032 128.214 90.1032 Q131.848 90.1032 133.654 86.5616 Q135.482 82.9968 135.482 75.8903 Q135.482 68.7608 133.654 65.2191 Q131.848 61.6543 128.214 61.6543 M128.214 57.9506 Q134.024 57.9506 137.08 62.5571 Q140.158 67.1404 140.158 75.8903 Q140.158 84.6171 137.08 89.2236 Q134.024 93.8069 128.214 93.8069 Q122.404 93.8069 119.325 89.2236 Q116.27 84.6171 116.27 75.8903 Q116.27 67.1404 119.325 62.5571 Q122.404 57.9506 128.214 57.9506 Z\" fill=\"#000000\" fill-rule=\"evenodd\" fill-opacity=\"1\" /><polyline clip-path=\"url(#clip672)\" style=\"stroke:#009af9; stroke-width:4; stroke-opacity:1; fill:none\" points=\"\n",
       "  237.76,550.711 351.838,230.04 465.915,92.9254 579.992,87.9763 694.07,133.116 808.147,193.571 922.225,192.437 1036.3,298.498 1150.38,367.859 1264.46,485.742 \n",
       "  1378.53,552.799 1492.61,624.222 1606.69,745.69 1720.77,832.998 1834.84,941.384 1948.92,1070.74 2063,1183.45 2177.08,1328.72 2291.15,1445.72 \n",
       "  \"/>\n",
       "<path clip-path=\"url(#clip670)\" d=\"\n",
       "M1987.34 216.178 L2280.2 216.178 L2280.2 95.2176 L1987.34 95.2176  Z\n",
       "  \" fill=\"#ffffff\" fill-rule=\"evenodd\" fill-opacity=\"1\"/>\n",
       "<polyline clip-path=\"url(#clip670)\" style=\"stroke:#000000; stroke-width:4; stroke-opacity:1; fill:none\" points=\"\n",
       "  1987.34,216.178 2280.2,216.178 2280.2,95.2176 1987.34,95.2176 1987.34,216.178 \n",
       "  \"/>\n",
       "<polyline clip-path=\"url(#clip670)\" style=\"stroke:#009af9; stroke-width:4; stroke-opacity:1; fill:none\" points=\"\n",
       "  2011.52,155.698 2156.63,155.698 \n",
       "  \"/>\n",
       "<path clip-path=\"url(#clip670)\" d=\"M 0 0 M2194.66 175.385 Q2192.85 180.015 2191.14 181.427 Q2189.43 182.839 2186.56 182.839 L2183.15 182.839 L2183.15 179.274 L2185.65 179.274 Q2187.41 179.274 2188.38 178.44 Q2189.36 177.607 2190.54 174.505 L2191.3 172.561 L2180.82 147.052 L2185.33 147.052 L2193.43 167.329 L2201.53 147.052 L2206.05 147.052 L2194.66 175.385 Z\" fill=\"#000000\" fill-rule=\"evenodd\" fill-opacity=\"1\" /><path clip-path=\"url(#clip670)\" d=\"M 0 0 M2211.93 169.042 L2219.57 169.042 L2219.57 142.677 L2211.26 144.343 L2211.26 140.084 L2219.52 138.418 L2224.19 138.418 L2224.19 169.042 L2231.83 169.042 L2231.83 172.978 L2211.93 172.978 L2211.93 169.042 Z\" fill=\"#000000\" fill-rule=\"evenodd\" fill-opacity=\"1\" /></svg>\n"
      ]
     },
     "execution_count": 28,
     "metadata": {},
     "output_type": "execute_result"
    }
   ],
   "source": [
    "error_wrt_s(A_rd, 10, 200, 10)"
   ]
  },
  {
   "cell_type": "markdown",
   "metadata": {},
   "source": [
    "Using a cosine basis do not seem to improve the results compared to random"
   ]
  },
  {
   "cell_type": "code",
   "execution_count": null,
   "metadata": {},
   "outputs": [],
   "source": []
  },
  {
   "cell_type": "code",
   "execution_count": null,
   "metadata": {},
   "outputs": [],
   "source": []
  }
 ],
 "metadata": {
  "kernelspec": {
   "display_name": "Julia 1.5.3",
   "language": "julia",
   "name": "julia-1.5"
  },
  "language_info": {
   "file_extension": ".jl",
   "mimetype": "application/julia",
   "name": "julia",
   "version": "1.5.3"
  }
 },
 "nbformat": 4,
 "nbformat_minor": 4
}
